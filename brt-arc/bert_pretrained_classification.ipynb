{
 "cells": [
  {
   "attachments": {},
   "cell_type": "markdown",
   "metadata": {
    "id": "vTpKZqyR3MWV"
   },
   "source": [
    "# Text Classification | BERT\n",
    "\n",
    "Tools and libraries:\n",
    "- [Hugging Face Transformers](https://huggingface.co/): For accessing the pre-trained BERT model.\n",
    "- [Datasets](https://huggingface.co/datasets): For managing and loading the dataset.\n",
    "- [ktrain](https://github.com/amaiya/ktrain): A high-level Python wrapper with TensorFlow backend, which will help us build, train, and fine-tune the BERT model for text classification on our custom dataset.\n",
    "\n",
    "---\n",
    "\n",
    "\n"
   ]
  },
  {
   "attachments": {},
   "cell_type": "markdown",
   "metadata": {
    "id": "sqCkNRiW2g-E"
   },
   "source": [
    "### Install Libraries:"
   ]
  },
  {
   "cell_type": "code",
   "execution_count": null,
   "metadata": {
    "colab": {
     "base_uri": "https://localhost:8080/"
    },
    "id": "ESpAZMpp2bPS",
    "outputId": "dda5df14-2d86-41ac-a2b7-055c54633e42"
   },
   "outputs": [],
   "source": [
    "# tested on python version 3.8.10\n",
    "!pip install numpy==1.24.0\n",
    "!pip install pandas==1.5.2\n",
    "!pip install matplotlib==3.6.2\n",
    "!pip install scikit-learn==1.2.0\n",
    "!pip install seaborn==0.12.1\n",
    "!pip install tensorflow==2.11.0\n",
    "!pip install ktrain==0.32.3\n",
    "!pip install transformers==4.17.0\n",
    "!pip install datasets==2.8.0"
   ]
  },
  {
   "cell_type": "code",
   "execution_count": 2,
   "metadata": {
    "id": "Vs6zbA5BJbGx"
   },
   "outputs": [
    {
     "name": "stderr",
     "output_type": "stream",
     "text": [
      "d:\\PROJECTS\\multiclass-text-class-bert\\Modular_code\\env_bert\\lib\\site-packages\\tqdm\\auto.py:21: TqdmWarning: IProgress not found. Please update jupyter and ipywidgets. See https://ipywidgets.readthedocs.io/en/stable/user_install.html\n",
      "  from .autonotebook import tqdm as notebook_tqdm\n"
     ]
    }
   ],
   "source": [
    "import numpy as np\n",
    "import pandas as pd\n",
    "import matplotlib.pyplot as plt\n",
    "import seaborn as sns\n",
    "import ktrain\n",
    "from ktrain import text\n",
    "import tensorflow as tf\n",
    "from sklearn.model_selection import train_test_split\n",
    "from datasets import list_datasets\n",
    "from datasets import load_dataset\n",
    "import timeit"
   ]
  },
  {
   "cell_type": "code",
   "execution_count": null,
   "metadata": {
    "colab": {
     "base_uri": "https://localhost:8080/"
    },
    "id": "vx7WVYXpKY50",
    "outputId": "751dbc4b-ee42-453e-bd0d-e82d6f7dd331"
   },
   "outputs": [],
   "source": [
    "#GPU Test\n",
    "#print(\"Tensorflow version : \", tf.__version__)\n",
    "#print(\"GPU available : \",bool(tf.test.is_gpu_available))\n",
    "#print(\"GPU name : \",tf.test.gpu_device_name())"
   ]
  },
  {
   "cell_type": "markdown",
   "metadata": {},
   "source": [
    "---"
   ]
  },
  {
   "attachments": {},
   "cell_type": "markdown",
   "metadata": {
    "id": "lvZ0k1VBM6Qm"
   },
   "source": [
    "### Import News Dataset:"
   ]
  },
  {
   "cell_type": "code",
   "execution_count": 5,
   "metadata": {
    "colab": {
     "base_uri": "https://localhost:8080/",
     "height": 403,
     "referenced_widgets": [
      "29965bed91064c469425747f07e19c8c",
      "dff5bb6915354b528e15d2e93703bd35",
      "a3c1aad4bfbc4f0fb01fd5d9825675fb",
      "38c212ee761546d69546e9668ebcfc73",
      "b15ba47b14d244429f69b37f1e9ecce7",
      "508c5237ad4d48c3a3c054523f724351",
      "339e760e59984bf282a280da209f5e65",
      "e853992a687843228397386f38f48d75",
      "a04585dc2445421aaa0f1a4599ab9dcb",
      "b9d0c70d0d5548c6b095469f663b4661",
      "f93679620e0348b5a7bbb01b17143486",
      "3688635daadc48789bbf94cdd769d65d",
      "eb93d18174964fd0bd7bd83dd6f6cc83",
      "1cd9126ff631413f826a78a07b086043",
      "953c7c19c1d94ed88c7d5e38a42ee1a4",
      "442793205bbd4861bd061a56b3e40441",
      "4c68c33bb6e24e309a3e5e15ff2467b1",
      "73028973197c4357b0f57de4c12a466e",
      "f91431ba8b81443199e3a03ea34f3e9a",
      "fb4526cbf15d4c7cbfcdc63d487efb79",
      "aa755ccb97b740e9bcb4150cfd6cc865",
      "e96e32f04892426bb822cb9f16b3597d",
      "0f2085ff65f04c3d83256c100ad653ac",
      "7c1b3a9187354937a3a5dd9ba0e0df52",
      "c49eba9e94d34163b7d41cc12a2ff4ae",
      "5512c797457f49eea89431d2feebfec3",
      "d6d1cafdf548410f9beda1dfbb4cc4b9",
      "b8ce0f8134094bbebd7a80b7fab5fac9",
      "bee8848da36e41d183aae8ccf4a12c13",
      "39f77f1455b541bcbf8595c445f8715b",
      "c6426ebb24334b749c201e519f0e2392",
      "a9f10b8c572a485fa87de1a5a97aaa14",
      "d89f9ead679b4c4580e70c7c21836f93",
      "730be9ab44af43e89a63ac6c4dca2f4d",
      "7e82ccbd524f422b8c57b270ab5544bb",
      "a07986f33bc0461d8c55d4967263f05f",
      "6207353c2e2f4a0196fb7004a25cfaba",
      "9efd60eb2f674007a451f591dd6f1a35",
      "c39ea5619ee241649b8c8bd0e3501fdf",
      "8c8aab021f5047d68bb25449fa68ad19",
      "8e047ce7dfbd4362947a3f7ec91246fc",
      "166fe151f9c94cd38aa6cfc875d8ec6f",
      "fb4805ec64ad4ca88c57c8a89ccd3122",
      "9fb6b3b69a5b4dcd8e43a25fdfef3097",
      "2ed1a9bf14ed483bacb2f062fdb7eebd",
      "029a0c3d5423499888aed0e46ec14559",
      "5aa6da4139434564b62872fe32fa965f",
      "9f5b722340c445b5b47938bb822bf7bb",
      "64eda9e87e30484c902c47326803c8eb",
      "5b58fec350264dd1bf687dd69b9b3090",
      "7cd8e63951304310b77a5103a5b94c67",
      "b24d7ec3098c43e5804228f58ba4db28",
      "f4f87038780446f592e9f0326940fb19",
      "abc4d09e9d224436abbad16ed81fc100",
      "9694450e6ed840abbad96cda59397ed0",
      "3b094394fdfe44028ee004d371efdff9",
      "465a2e990c4048f296665186ba862ccb",
      "c607ebffb8124faab5a66d0ac0879e7b",
      "9f98242645cc49a588df5d7e3589305d",
      "e8b092c8e1f54648877b9c5e45328e4e",
      "dc396d3d0f2e42258b9394ba863d05e1",
      "952e767bb65a4fbb8c0422ed75d14d05",
      "60e1a141dd914239bdb4d5fbfc4e81a0",
      "13edd0f316c14f41afb25c263752db35",
      "220aa9730ee141b78a944d3f32a93ec0",
      "9ae9eacb83974f6b94ec1f76d7b983d8"
     ]
    },
    "id": "_vbAfHhjMCFQ",
    "outputId": "97c6d667-e042-46b8-fafc-d90b6c8a148d"
   },
   "outputs": [
    {
     "name": "stderr",
     "output_type": "stream",
     "text": [
      "Found cached dataset ag_news (C:/Users/vithi/.cache/huggingface/datasets/ag_news/default/0.0.0/bc2bcb40336ace1a0374767fc29bb0296cdaf8a6da7298436239c54d79180548)\n",
      "100%|██████████| 2/2 [00:00<00:00, 32.26it/s]"
     ]
    },
    {
     "name": "stdout",
     "output_type": "stream",
     "text": [
      "\n",
      " DatasetDict({\n",
      "    train: Dataset({\n",
      "        features: ['text', 'label'],\n",
      "        num_rows: 120000\n",
      "    })\n",
      "    test: Dataset({\n",
      "        features: ['text', 'label'],\n",
      "        num_rows: 7600\n",
      "    })\n",
      "})\n"
     ]
    },
    {
     "name": "stderr",
     "output_type": "stream",
     "text": [
      "\n"
     ]
    }
   ],
   "source": [
    "ag_news_dataset = load_dataset('ag_news')\n",
    "print(\"\\n\", ag_news_dataset)"
   ]
  },
  {
   "cell_type": "markdown",
   "metadata": {},
   "source": [
    "---"
   ]
  },
  {
   "attachments": {},
   "cell_type": "markdown",
   "metadata": {
    "id": "SETrdznlOtBq"
   },
   "source": [
    "## Dataset Details\n",
    "\n",
    "The AG dataset is a collection of over 1 million news articles gathered from more than 2000 news sources over the course of a year. These articles were collected by ComeToMyHead, an academic news search engine that has been operational since July 2004. The dataset is made available by the academic community for research purposes in various fields, including data mining (clustering, classification, etc.), information retrieval (ranking, search, etc.), XML, data compression, data streaming, and other non-commercial activities. For more information, you can visit the [AG Corpus of News Articles](http://www.di.unipi.it/~gulli/AG_corpus_of_news_articles.html).\n",
    "\n",
    "AG News, also known as AG's News Corpus, is a subset of the larger AG corpus. It is constructed by assembling titles and description fields of articles from the four largest classes: \"World,\" \"Sports,\" \"Business,\" and \"Sci/Tech.\" The AG News dataset includes 30,000 training samples and 1,900 test samples for each class.\n",
    "\n",
    "---\n"
   ]
  },
  {
   "cell_type": "code",
   "execution_count": 6,
   "metadata": {
    "colab": {
     "base_uri": "https://localhost:8080/"
    },
    "id": "nIJRu3ZqNnN8",
    "outputId": "757517b0-61fb-4f49-c002-f91b39bdbea7"
   },
   "outputs": [
    {
     "name": "stdout",
     "output_type": "stream",
     "text": [
      "Dataset Items: \n",
      " dict_items([('train', Dataset({\n",
      "    features: ['text', 'label'],\n",
      "    num_rows: 120000\n",
      "})), ('test', Dataset({\n",
      "    features: ['text', 'label'],\n",
      "    num_rows: 7600\n",
      "}))])\n",
      "\n",
      "Dataset type: \n",
      " <class 'datasets.dataset_dict.DatasetDict'>\n",
      "\n",
      "Shape of dataset: \n",
      " {'train': (120000, 2), 'test': (7600, 2)}\n",
      "\n",
      "No of rows: \n",
      " {'train': 120000, 'test': 7600}\n",
      "\n",
      "No of columns: \n",
      " {'train': 2, 'test': 2}\n"
     ]
    }
   ],
   "source": [
    "print(\"Dataset Items: \\n\", ag_news_dataset.items())\n",
    "print(\"\\nDataset type: \\n\", type(ag_news_dataset))\n",
    "print(\"\\nShape of dataset: \\n\", ag_news_dataset.shape)\n",
    "print(\"\\nNo of rows: \\n\", ag_news_dataset.num_rows)\n",
    "print(\"\\nNo of columns: \\n\", ag_news_dataset.num_columns)"
   ]
  },
  {
   "cell_type": "code",
   "execution_count": 7,
   "metadata": {
    "colab": {
     "base_uri": "https://localhost:8080/"
    },
    "id": "cnMN9DcKQWtm",
    "outputId": "7f71ad0f-00e9-4760-e769-457ee6d5cca8"
   },
   "outputs": [
    {
     "name": "stdout",
     "output_type": "stream",
     "text": [
      "\n",
      "Column Names: \n",
      " {'train': ['text', 'label'], 'test': ['text', 'label']}\n",
      "\n",
      " {'train': MemoryMappedTable\n",
      "text: string\n",
      "label: int64\n",
      "----\n",
      "text: [[\"Wall St. Bears Claw Back Into the Black (Reuters) Reuters - Short-sellers, Wall Street's dwindling\\band of ultra-cynics, are seeing green again.\",\"Carlyle Looks Toward Commercial Aerospace (Reuters) Reuters - Private investment firm Carlyle Group,\\which has a reputation for making well-timed and occasionally\\controversial plays in the defense industry, has quietly placed\\its bets on another part of the market.\",\"Oil and Economy Cloud Stocks' Outlook (Reuters) Reuters - Soaring crude prices plus worries\\about the economy and the outlook for earnings are expected to\\hang over the stock market next week during the depth of the\\summer doldrums.\",\"Iraq Halts Oil Exports from Main Southern Pipeline (Reuters) Reuters - Authorities have halted oil export\\flows from the main pipeline in southern Iraq after\\intelligence showed a rebel militia could strike\\infrastructure, an oil official said on Saturday.\",\"Oil prices soar to all-time record, posing new menace to US economy (AFP) AFP - Tearaway world oil prices, toppling records and straining wallets, present a new economic menace barely three months before the US presidential elections.\",...,\"U.S. Stocks Rebound as Oil Prices Ease  NEW YORK (Reuters) - U.S. stocks rebounded on Monday as oil  prices retreated from their highs, while upbeat earnings  announcements from retailers fueled the improved sentiment.\",\"Dollar Rises Vs Euro After Asset Data  NEW YORK (Reuters) - The dollar gained against the euro on  Monday after a report on flows into U.S. assets showed enough  of a rise in foreign investments to offset the current account  gap for the month.\",\"Bikes Bring Internet to Indian Villagers (AP) AP - For 12-year-old Anju Sharma, hope for a better life arrives in her poor farming village three days a week on a bicycle rickshaw that carries a computer with a high-speed, wireless Internet connection.\",\"Celebrity Chefs Are Everywhere in Vegas By ADAM GOLDMAN    LAS VEGAS (AP) -- The waiter appears tableside in the cozy dining room laden with oil paintings, stained glass and hints of cherry and oak. Before reciting the day's special menu items, he recounts the restaurant's devotion to farm-fresh produce and tosses out a morsel about its namesake, chef Bradley Ogden...\",\"Entertainment World Wary of Microsoft Technology By GARY GENTILE    LOS ANGELES (AP) -- CinemaNow Inc., the Internet-based movie service, is a rarity in Hollywood - a company that eagerly embraces Microsoft Corp. (MSFT) technology and relies on it exclusively to transmit, protect and display the movies it rents to customers...\"],[\"European Union Extends Microsoft-Time Warner Review BRUSSELS, Belgium (AP) -- European antitrust regulators said Monday they have extended their review of a deal between Microsoft Corp. (MSFT) and Time Warner Inc...\",\"Patriots Sign Top Pick Watson (Reuters) Reuters - The New England Patriots\\Monday announced the signing of first-round draft pick Benjamin\\Watson. As per team policy, terms of the tight end's deal were\\not released.\",\"Olympics: Thorpe Beats Phelps as U.S. Fights Gold Gap  ATHENS (Reuters) - Australian swimmer Ian Thorpe beat  arch-rival Michael Phelps in the men's 200-meter freestyle on  Monday as the United States pursued China, Australia and Japan  in the medals table on day three of the Olympic Games.\",\"U.S. Awaits Judgment on Venezuela Voting (AP) AP - There was no evident pattern of fraud in Venezuela's balloting that left President Hugo Chavez in office but a final judgment depends on what observers report, the State Department said Monday.\",\"Bush, Kerry Press for Women's Votes (AP) AP - Elizabeth Burnosky is a registered Democrat who voted for President Bush in 2000, opposes his policy on Iraq and calls Sen. John Kerry \"a little wussy boy.\" Call her conflicted.\",...,\"Google Interview Is Draw for Latest Playboy Issue (Reuters) Reuters - The new issue of Playboy magazine\\isn't drawing attention in some circles for its trademark\\centerfold but for an interview with the founders of Web search\\engine Google Inc. that raised regulatory eyebrows.\",\"Williamson Gets Third Opinion on Elbow (AP) AP - Red Sox reliever Scott Williamson sought a third opinion on his ailing right elbow Tuesday before deciding whether to have major reconstructive surgery.\",\"Iran Threatens Israel on Nuclear Reactor (AP) AP - Accompanied by a warning that its missiles have the range, Iran on Tuesday said it would destroy Israel's Dimona nuclear reactor if the Jewish state were to attack Iran's nuclear facilities.\",\"Grim funeral service held for Burundi massacre victims (AFP) AFP - Thousands of grieving people and top politicians attended a grim funeral service held to bury some 160 Congolese Tutsis slaughtered in a refugee camp in Burundi.\",\"Borders Profits Rise, Raises Outlook NEW YORK (Reuters) - Borders Group Inc. (BGP.N: Quote, Profile, Research) , the No. 2 US bookseller, on Tuesday said quarterly earnings rose, beating estimates by the company and Wall Street, largely because of stronger-than-expected book sales. \"],...,[\"Scandal claims a tearful Blunkett THE revenge of an ex-lover has forced the resignation of British Home Secretary David Blunkett, dealing a blow to Tony Blair less than six months before an expected general election.\",\"UN broadens its presence in Iraq UNITED NATIONS, New York The United Nations has announced that it is expanding its presence in Iraq outside of Baghdad to the cities of Erbil and Basra and planning to send a small addition of staff members into the country to assist in the elections \",\"Current Account Gap Widens to Record (Reuters) Reuters - The U.S. current account deficit\\widened slightly to a record  #36;164.71 billion in the third\\quarter as the goods trade shortfall grew and the services\\surplus shrank, the government said on Thursday.\",\"Symantec to Buy Veritas for \\$13.5 Billion  NEW YORK/SAN FRANCISCO (Reuters) - Symantec Corp. &lt;A HREF=\"http://www.investor.reuters.com/FullQuote.aspx?ticker=SYMC.O target=/stocks/quickinfo/fullquote\"&gt;SYMC.O&lt;/A&gt;,  a maker of security software, on Thursday said it would buy  storage software maker Veritas Software Corp. &lt;A HREF=\"http://www.investor.reuters.com/FullQuote.aspx?ticker=VRTS.O target=/stocks/quickinfo/fullquote\"&gt;VRTS.O&lt;/A&gt; for  \\$13.5 billion, creating the world's fourth-largest software  company.\",\"Goldman Profit Rises; Revenue Disappoints  NEW YORK (Reuters) - Goldman Sachs Group Inc. on Thursday  said fourth-quarter profit rose 23 percent on strong  fixed-income and commodities trading results and investment  banking gains, but shares fell as revenue missed expectations.\",...,\"OSI Pharma Soars on AstraZeneca #39;s Loss Shares in OSI Pharmaceuticals (OSIP :Nasdaq - news - research) and Genentech (DNA :Nasdaq - news - research) jumped Friday after AstraZeneca (AZN :NYSE - news - research) said new medical data showed its lung cancer drug Iressa provided no survival \",\"Report: Murdoch offers \\$44 million for NY apartment Rupert Murdoch, the billionaire CEO of News Corp. (NWS)(NWSA), has reportedly offered to buy a three-story penthouse for \\$44 million, which would be the highest price ever paid for a Manhattan apartment if the deal goes through.\",\"Tom Online Buys Stake in Indiagames Wireless Internet company Tom Online Inc. on Friday said it signed a definitive agreement to buy a majority stake in Indiagames Ltd.\",\"Wenger fined, warned over Ruud outburst Arsenal manager Arsene Wenger has been fined 15 000 (about R160 000) for improper conduct over comments he made after the English champions #39; controversial 2-0 defeat by Manchester United in October.\",\"In  quot;year of opportunity, quot; Sharon offers state to Palestinians HERZLIYA, Israel An adviser to Israeli Prime Minister Ariel Sharon says a final vote on his planned pullout from Gaza and four West Bank communities could take place months sooner.\"],[\"Israeli Army Raid Into Gaza Kills 5 Palestinians Israeli tanks and troops raided southern Gaza on Friday in response to increasing Palestinian mortar attacks, killing at least five Palestinians and prompting hundreds to flee their homes, witnesses and medics said.\",\"Terrorists threat puts Indonesia on high alert The island paradise Bali will be off limits this holiday season. If your travel plans include Indonesia, you would be wise to cancel your trip immediately.\",\"AP: Colombia Troops Being Sought for Iraq Recruiters working for U.S. contractors are hiring former Colombian soldiers - and luring away active-duty ones - for security jobs in Iraq, according to a former army officer who met with the recruiters.\",\"Cuban Doctor Returns Home From Argentina A prominent Cuban doctor returned home Thursday after an overnight stay at the Argentine Embassy that raised tensions between the two nations amid reports she was seeking political asylum.\",\"Prior art claimed for concentration camp invention &lt;strong&gt;Letters&lt;/strong&gt; It could only happen in &lt;em&gt;Letters&lt;/em&gt;\",...,\"Pakistan's Musharraf Says Won't Quit as Army Chief  KARACHI (Reuters) - Pakistani President Pervez Musharraf  has said he will stay on as army chief, reneging on a pledge to  quit the powerful post by the end of the year.\",\"Renteria signing a top-shelf deal Red Sox general manager Theo Epstein acknowledged Edgar Renteria was more a luxury for the 2005 Red Sox than a necessity. But there's nothing wrong with getting the keys to a BMW, and that's what the four-time All-Star and two-time Gold Glover is in the eyes of the Red Sox.\",\"Saban not going to Dolphins yet The Miami Dolphins will put their courtship of LSU coach Nick Saban on hold to comply with the NFL's hiring policy by interviewing at least one minority candidate, a team source told The Associated Press last night.\",\"Today's NFL games PITTSBURGH at NY GIANTS Time: 1:30 p.m. Line: Steelers by 10. Records: Steelers 12-1, Giants 5-8. Vs. spread: Steelers 10-1-2, Giants 5-8. Series: Giants lead, 43-27-3. Comments: Think the Giants knew Ben Roethlisberger was available on draft day when they broke the bank and traded for Eli Manning? . . . All Big Ben has done this year is complete ...\",\"Nets get Carter from Raptors INDIANAPOLIS -- All-Star Vince Carter was traded by the Toronto Raptors to the New Jersey Nets for Alonzo Mourning, Eric Williams, Aaron Williams, and a pair of first-round draft picks yesterday.\"]]\n",
      "label: [[2,2,2,2,2,...,2,2,3,3,3],[3,1,1,0,0,...,3,1,0,0,2],...,[0,0,2,2,2,...,2,2,2,1,0],[0,0,0,0,3,...,0,1,1,1,1]], 'test': MemoryMappedTable\n",
      "text: string\n",
      "label: int64\n",
      "----\n",
      "text: [[\"Fears for T N pension after talks Unions representing workers at Turner   Newall say they are 'disappointed' after talks with stricken parent firm Federal Mogul.\",\"The Race is On: Second Private Team Sets Launch Date for Human Spaceflight (SPACE.com) SPACE.com - TORONTO, Canada -- A second\\team of rocketeers competing for the  #36;10 million Ansari X Prize, a contest for\\privately funded suborbital space flight, has officially announced the first\\launch date for its manned rocket.\",\"Ky. Company Wins Grant to Study Peptides (AP) AP - A company founded by a chemistry researcher at the University of Louisville won a grant to develop a method of producing better peptides, which are short chains of amino acids, the building blocks of proteins.\",\"Prediction Unit Helps Forecast Wildfires (AP) AP - It's barely dawn when Mike Fitzpatrick starts his shift with a blur of colorful maps, figures and endless charts, but already he knows what the day will bring. Lightning will strike in places he expects. Winds will pick up, moist places will dry and flames will roar.\",\"Calif. Aims to Limit Farm-Related Smog (AP) AP - Southern California's smog-fighting agency went after emissions of the bovine variety Friday, adopting the nation's first rules to reduce air pollution from dairy cow manure.\",...,\"Mariners riding the Ichiro wave Ichiro Suzuki singled three times last night to etch out a spot in history and to send the Toronto Blue Jays a little deeper into oblivion.\",\"Wharf marks debut with wickets In-form Alex Wharf made an impressive start to his international career this morning with wickets in his first two overs against India at Trent Bridge.\",\"Roddick blisters junior champ By the time his match with Andy Roddick was over, Jenkins had felt the full fury of Roddick #39;s jet blast. Roddick had nailed a 152-mph serve at him, the fastest serve in Open history and one \",\"AMD dual-core demo pips Intel, IBM AMD has demonstrated the company #39;s first dual-core microprocessors. Dual-core processors offer improved performance over single-core chips, especially in multithreaded applications.\",\"Gunmen ambush Chalabi #39;s convoy, wound 2 BAGHDAD - Gunmen ambushed the convoy of former Iraqi governing council president Ahmed Chalabi on Wednesday, wounding two of his bodyguards, aides said.\"],[\"Albertsons #39; 2Q Profit Falls 36 Percent Persistent economic sluggishness and continued fallout from the Southern California labor dispute slashed second quarter profits 36 percent for Albertsons Inc.\",\"Problem device bypassed trials The catheter that triggered three safety recalls by Boston Scientific Corp. of its best-selling Taxus coronary stent after being linked to three deaths and 47 injuries had not been subjected to the rigors of a human clinical trial, FDA records show.\",\"CRM Vendor Entellium Adopts Open-Source Strategy (TechWeb) TechWeb - Availability of Entellium's code could speed development of industry-specific CRM products.\",\"Suicide bomber kills at least 10 in Moscow MOSCOW -- A woman strapped with explosives blew herself up outside a busy Moscow subway station yesterday night, killing at least 10 people and wounding more than 50 in the second terrorist attack to hit Russia in a week.\",\"Old Rumors of Gay Sex Prove Powerful on Web Va. GOP members chose Del. Thelma Drake (Norfolk) to replace Rep. Edward L. Schrock after he resigned amidst allegations Schrock indulged in or solicited gay sex.\",...,\"US Airways Said to Plan to Ask Court for Pay Cuts S Airways plans to ask a federal bankruptcy judge on Oct. 7 to impose temporary pay cuts on its workers unless it can reach agreement with its unions before then, people who have been briefed on the company #39;s strategy said yesterday.\",\"IPod Rivals Square Off Against Apple A new generation of smaller, sleeker and cheaper MP3 players from the likes of Sony, Rio, Creative and Rave MP are hitting the market this fall, and they all have Apple Computer #39;s white-hot digital music player in their sights.\",\"PeopleSoft sweetens employee compensation Business software maker PeopleSoft Friday said it was boosting compensation packages for all employees except its chief executive in a move that would raise the \",\"Panama flooding kills nine people At least nine people - seven of them children - have died in flooding in the capital of Panama. The authorities say at least 13 people are still missing after heavy rainfall caused rivers to break their banks.\",\"Pierce longs for old days Rusty Pierce has received lessons in pragmatism since joining the Revolution four years ago. Pierce has performed for teams that have inevitably turned to a direct, linear game, with little emphasis on creativity or imagination. The style paid off the last two seasons, but the Revolution might have overly relied on direct play in spending most of this ...\"],...,[\"US commercial crude oil reserves rise slightly US commercial crude oil inventories increased 800,000 barrels to 292.3 million in the week ending Nov. 12, the Energy Department reported Wednesday.\",\"SBC calling on cable SBC is teaming up with Microsoft to provide consumers with a new way to view television -- a move that puts it in direct competition with the cable TV industry.\",\"Mbeki calls for arms embargo, rebels vow to fight President Thabo Mbeki has urged all countries, including Ivory Coast #39;s neighbours, to immediately enforce a United Nations arms embargo on government and rebel forces in Ivory Coast.\",\"Safety First With Latest AOL 9.0 America Online (Quote, Chart) is bundling existing security features along with new ones for the Thursday launch of its AOL 9.0 software client, security edition.\",\"HONDA LINKED WITH BAR TAKEOVER BAR #39;s engine partner Honda is believed to be interested in purchasing the Brackley team and a deal could be done within the next 12 months.\",...,\"Heisman Horses Come Down to the Wire Entering the final week for Heisman Trophy voters to make their decision, the race has turned out tighter than it was believed to be last week.\",\"Yukos echo in Russian telco #39;s tax bill ALARM has spread through the Russian investment community as authorities slapped a tax bill of almost \\$US160 million (\\$210 million) on the number two mobile operator, in what is widely seen as a government-linked campaign against the firm.\",\"Wine Shipping Case Heard by Supreme Court The US Supreme Court heard arguments Tuesday in a case that could have a major impact on California #39;s wine industry. At issue is whether states can bar people from buying wine directly from out-of-state suppliers.\",\"Blair urged to launch Iraq death toll probe A group of former British diplomats, peers, scientists and church leaders will today urge Tony Blair to launch an inquiry into the death toll of the Iraq war.\",\"Palm OS for Linux? \\\\Today was a strange day for the Palm OS community:\\\\\"PalmSource also plans to implement Palm OS on top of Linux, bringing the\\benefits of Palm OS to the Linux community, including the award winning user\\interface, software frameworks based on the best of Palm OS and BeOS, a large\\base of professional and consumer applications, and an enthusiastic community\\of more than 25 million users and over 360,000 registered\\developers. PalmSource intends to work as a partner within the Linux community\\to help Linux grow rapidly in the consumer and enterprise mobile markets.\"\\\\This is a great decision!  A bit to late but not much so.  When Sharp released\\the Zaurus into the US market there was a lot o ...\\\\\"],[\"Ellison: Censorship ain't my problem When it comes to touting his company's software, Oracle CEO Larry Ellison is never one to mince words. But when it's the principle of free speech versus the almighty dollar, the bad boy of Silicon Valley is a veritable shrinking violet. Missing Links\",\"Company Trademark Rights Limited by US High Court (Update1) The US Supreme Court limited the scope of federal trademark protection, saying rival companies in some cases can use proprietary terms even when customers might be confused.\",\"Human error at EDS to blame for UK outage Electronic Data Systems has admitted that an error by one of its computer operators during a Microsoft Windows upgrade caused 40,000 PCs at the United Kingdom #39;s Department of Work and Pensions to crash last month.\",\"Linux groups patch image flaw com December 8, 2004, 2:48 PM PT. Several flaws in common Linux code used to process graphics in the GNOME desktop environment could allow an attacker to compromise a computer that \",\"Congress Passes Bill Allowing Space Tours (AP) AP - Outer space could become the final frontier of tourism under legislation passed Wednesday by the Senate to regulate commercial human spaceflight.\",...,\"Around the world Ukrainian presidential candidate Viktor Yushchenko was poisoned with the most harmful known dioxin, which is contained in Agent Orange, a scientist who analyzed his blood said Friday.\",\"Void is filled with Clement With the supply of attractive pitching options dwindling daily -- they lost Pedro Martinez to the Mets, missed on Tim Hudson, and are resigned to Randy Johnson becoming a Yankee -- the Red Sox struck again last night, coming to terms with free agent Matt Clement on a three-year deal that will pay the righthander in the neighborhood of \\$25 ...\",\"Martinez leaves bitter Like Roger Clemens did almost exactly eight years earlier, Pedro Martinez has left the Red Sox apparently bitter about the way he was treated by management.\",\"5 of arthritis patients in Singapore take Bextra or Celebrex &lt;b&gt;...&lt;/b&gt; SINGAPORE : Doctors in the United States have warned that painkillers Bextra and Celebrex may be linked to major cardiovascular problems and should not be prescribed.\",\"EBay gets into rentals EBay plans to buy the apartment and home rental service Rent.com for \\$415 million, adding to its already exhaustive breadth of offerings.\"]]\n",
      "label: [[2,3,3,3,3,...,1,1,1,3,0],[2,2,3,0,3,...,2,3,2,0,1],...,[2,2,0,3,1,...,1,2,2,0,3],[3,2,3,3,3,...,0,1,1,2,2]]}\n"
     ]
    }
   ],
   "source": [
    "print(\"\\nColumn Names: \\n\", ag_news_dataset.column_names)\n",
    "print(\"\\n\", ag_news_dataset.data)"
   ]
  },
  {
   "cell_type": "code",
   "execution_count": 8,
   "metadata": {
    "colab": {
     "base_uri": "https://localhost:8080/"
    },
    "id": "tGmDfeYhRNDE",
    "outputId": "4c521c49-da09-4cff-a827-513b05b2a837"
   },
   "outputs": [
    {
     "name": "stdout",
     "output_type": "stream",
     "text": [
      "{'text': \"Wall St. Bears Claw Back Into the Black (Reuters) Reuters - Short-sellers, Wall Street's dwindling\\\\band of ultra-cynics, are seeing green again.\", 'label': 2}\n",
      "{'text': 'Carlyle Looks Toward Commercial Aerospace (Reuters) Reuters - Private investment firm Carlyle Group,\\\\which has a reputation for making well-timed and occasionally\\\\controversial plays in the defense industry, has quietly placed\\\\its bets on another part of the market.', 'label': 2}\n"
     ]
    }
   ],
   "source": [
    "print(ag_news_dataset['train'][0])\n",
    "print(ag_news_dataset['train'][1])"
   ]
  },
  {
   "cell_type": "code",
   "execution_count": 9,
   "metadata": {
    "colab": {
     "base_uri": "https://localhost:8080/"
    },
    "id": "2sB6pqKtSSTc",
    "outputId": "3d484865-4fc3-4737-b34c-76bd453993c9"
   },
   "outputs": [
    {
     "name": "stdout",
     "output_type": "stream",
     "text": [
      "Wall St. Bears Claw Back Into the Black (Reuters) Reuters - Short-sellers, Wall Street's dwindling\\band of ultra-cynics, are seeing green again.\n",
      "2\n",
      "\n",
      "Black armbands for Clough, tears for Liverpool fans In the afternoon, Brian Clough, unquestionably one of the greats and unarguably one of the most controversial of football men, died of cancer.\n",
      "1\n",
      "\n",
      "BYTE OF THE APPLE Apple lost one war to Microsoft by not licensing its Mac operating system. It may repeat the error with its iPod and music software.\n",
      "3\n",
      "\n",
      "Venezuelan Car-Bomb Suspect Killed, Weapons Found  CARACAS, Venezuela (Reuters) - A Venezuelan lawyer  suspected in last week's bombing murder of a top state  prosecutor was killed in a gunfight with police on Tuesday  after he tried to ram detectives with his car and opened fire  on them, officials said.\n",
      "0\n"
     ]
    }
   ],
   "source": [
    "print(ag_news_dataset['train']['text'][0])\n",
    "print(ag_news_dataset['train']['label'][0])\n",
    "print()\n",
    "print(ag_news_dataset['train']['text'][35000])\n",
    "print(ag_news_dataset['train']['label'][35000])\n",
    "print()\n",
    "print(ag_news_dataset['train']['text'][60000])\n",
    "print(ag_news_dataset['train']['label'][60000])\n",
    "print()\n",
    "print(ag_news_dataset['train']['text'][100000])\n",
    "print(ag_news_dataset['train']['label'][100000])"
   ]
  },
  {
   "cell_type": "markdown",
   "metadata": {},
   "source": [
    "---"
   ]
  },
  {
   "attachments": {},
   "cell_type": "markdown",
   "metadata": {
    "id": "9Td-BdjWjJVe"
   },
   "source": [
    "### Loading Train & Test Datasets:"
   ]
  },
  {
   "cell_type": "code",
   "execution_count": 10,
   "metadata": {
    "colab": {
     "base_uri": "https://localhost:8080/"
    },
    "id": "fjlku3WETIvZ",
    "outputId": "ee877914-4878-4f6a-b803-0164a52e6e4d"
   },
   "outputs": [
    {
     "name": "stderr",
     "output_type": "stream",
     "text": [
      "Found cached dataset ag_news (C:/Users/vithi/.cache/huggingface/datasets/ag_news/default/0.0.0/bc2bcb40336ace1a0374767fc29bb0296cdaf8a6da7298436239c54d79180548)\n",
      "Found cached dataset ag_news (C:/Users/vithi/.cache/huggingface/datasets/ag_news/default/0.0.0/bc2bcb40336ace1a0374767fc29bb0296cdaf8a6da7298436239c54d79180548)\n"
     ]
    },
    {
     "name": "stdout",
     "output_type": "stream",
     "text": [
      "Train Dataset :  (120000, 2)\n",
      "Test Dataset :  (7600, 2)\n"
     ]
    }
   ],
   "source": [
    "ag_news_train = load_dataset('ag_news', split='train')\n",
    "ag_news_test = load_dataset('ag_news', split='test')\n",
    "print(\"Train Dataset : \", ag_news_train.shape)\n",
    "print(\"Test Dataset : \", ag_news_test.shape)"
   ]
  },
  {
   "cell_type": "code",
   "execution_count": 11,
   "metadata": {
    "colab": {
     "base_uri": "https://localhost:8080/"
    },
    "id": "QretAx1bjy0y",
    "outputId": "68858459-75b8-4165-a5e2-fd40be1d3976"
   },
   "outputs": [
    {
     "name": "stdout",
     "output_type": "stream",
     "text": [
      "{'text': \"Wall St. Bears Claw Back Into the Black (Reuters) Reuters - Short-sellers, Wall Street's dwindling\\\\band of ultra-cynics, are seeing green again.\", 'label': 2}\n",
      "{'text': \"Fears for T N pension after talks Unions representing workers at Turner   Newall say they are 'disappointed' after talks with stricken parent firm Federal Mogul.\", 'label': 2}\n"
     ]
    }
   ],
   "source": [
    "print(ag_news_train[0])\n",
    "print(ag_news_test[0])"
   ]
  },
  {
   "cell_type": "code",
   "execution_count": 12,
   "metadata": {
    "colab": {
     "base_uri": "https://localhost:8080/"
    },
    "id": "52rVBy1ij-Ba",
    "outputId": "2589ccd0-ed09-4d3b-d68b-803de292d944"
   },
   "outputs": [
    {
     "name": "stdout",
     "output_type": "stream",
     "text": [
      "\n",
      "Train Dataset Features: \n",
      " {'text': Value(dtype='string', id=None), 'label': ClassLabel(names=['World', 'Sports', 'Business', 'Sci/Tech'], id=None)}\n",
      "\n",
      "Test Dataset Features: \n",
      " {'text': Value(dtype='string', id=None), 'label': ClassLabel(names=['World', 'Sports', 'Business', 'Sci/Tech'], id=None)}\n"
     ]
    }
   ],
   "source": [
    "print(\"\\nTrain Dataset Features: \\n\", ag_news_train.features)\n",
    "print(\"\\nTest Dataset Features: \\n\", ag_news_test.features)"
   ]
  },
  {
   "attachments": {},
   "cell_type": "markdown",
   "metadata": {
    "id": "0Q61zgx3oo5f"
   },
   "source": [
    "### Creating DataFrame object for K-train:"
   ]
  },
  {
   "cell_type": "code",
   "execution_count": 13,
   "metadata": {
    "colab": {
     "base_uri": "https://localhost:8080/",
     "height": 359
    },
    "id": "UqpNCIJGoR1m",
    "outputId": "105e099b-6f24-43c5-dba4-35017ddb4bcd"
   },
   "outputs": [
    {
     "data": {
      "text/html": [
       "<div>\n",
       "<style scoped>\n",
       "    .dataframe tbody tr th:only-of-type {\n",
       "        vertical-align: middle;\n",
       "    }\n",
       "\n",
       "    .dataframe tbody tr th {\n",
       "        vertical-align: top;\n",
       "    }\n",
       "\n",
       "    .dataframe thead th {\n",
       "        text-align: right;\n",
       "    }\n",
       "</style>\n",
       "<table border=\"1\" class=\"dataframe\">\n",
       "  <thead>\n",
       "    <tr style=\"text-align: right;\">\n",
       "      <th></th>\n",
       "      <th>text</th>\n",
       "      <th>label</th>\n",
       "    </tr>\n",
       "  </thead>\n",
       "  <tbody>\n",
       "    <tr>\n",
       "      <th>0</th>\n",
       "      <td>Wall St. Bears Claw Back Into the Black (Reute...</td>\n",
       "      <td>2</td>\n",
       "    </tr>\n",
       "    <tr>\n",
       "      <th>1</th>\n",
       "      <td>Carlyle Looks Toward Commercial Aerospace (Reu...</td>\n",
       "      <td>2</td>\n",
       "    </tr>\n",
       "    <tr>\n",
       "      <th>2</th>\n",
       "      <td>Oil and Economy Cloud Stocks' Outlook (Reuters...</td>\n",
       "      <td>2</td>\n",
       "    </tr>\n",
       "    <tr>\n",
       "      <th>3</th>\n",
       "      <td>Iraq Halts Oil Exports from Main Southern Pipe...</td>\n",
       "      <td>2</td>\n",
       "    </tr>\n",
       "    <tr>\n",
       "      <th>4</th>\n",
       "      <td>Oil prices soar to all-time record, posing new...</td>\n",
       "      <td>2</td>\n",
       "    </tr>\n",
       "    <tr>\n",
       "      <th>5</th>\n",
       "      <td>Stocks End Up, But Near Year Lows (Reuters) Re...</td>\n",
       "      <td>2</td>\n",
       "    </tr>\n",
       "    <tr>\n",
       "      <th>6</th>\n",
       "      <td>Money Funds Fell in Latest Week (AP) AP - Asse...</td>\n",
       "      <td>2</td>\n",
       "    </tr>\n",
       "    <tr>\n",
       "      <th>7</th>\n",
       "      <td>Fed minutes show dissent over inflation (USATO...</td>\n",
       "      <td>2</td>\n",
       "    </tr>\n",
       "    <tr>\n",
       "      <th>8</th>\n",
       "      <td>Safety Net (Forbes.com) Forbes.com - After ear...</td>\n",
       "      <td>2</td>\n",
       "    </tr>\n",
       "    <tr>\n",
       "      <th>9</th>\n",
       "      <td>Wall St. Bears Claw Back Into the Black  NEW Y...</td>\n",
       "      <td>2</td>\n",
       "    </tr>\n",
       "  </tbody>\n",
       "</table>\n",
       "</div>"
      ],
      "text/plain": [
       "                                                text  label\n",
       "0  Wall St. Bears Claw Back Into the Black (Reute...      2\n",
       "1  Carlyle Looks Toward Commercial Aerospace (Reu...      2\n",
       "2  Oil and Economy Cloud Stocks' Outlook (Reuters...      2\n",
       "3  Iraq Halts Oil Exports from Main Southern Pipe...      2\n",
       "4  Oil prices soar to all-time record, posing new...      2\n",
       "5  Stocks End Up, But Near Year Lows (Reuters) Re...      2\n",
       "6  Money Funds Fell in Latest Week (AP) AP - Asse...      2\n",
       "7  Fed minutes show dissent over inflation (USATO...      2\n",
       "8  Safety Net (Forbes.com) Forbes.com - After ear...      2\n",
       "9  Wall St. Bears Claw Back Into the Black  NEW Y...      2"
      ]
     },
     "execution_count": 13,
     "metadata": {},
     "output_type": "execute_result"
    }
   ],
   "source": [
    "pd.set_option('Display.max_columns', None)\n",
    "ag_news_train_df = pd.DataFrame(data=ag_news_train)\n",
    "ag_news_train_df.head(10)"
   ]
  },
  {
   "cell_type": "code",
   "execution_count": 14,
   "metadata": {
    "colab": {
     "base_uri": "https://localhost:8080/",
     "height": 359
    },
    "id": "bFk6yaNmou8u",
    "outputId": "14351360-cb3d-4f24-9075-4a21773ac605"
   },
   "outputs": [
    {
     "data": {
      "text/html": [
       "<div>\n",
       "<style scoped>\n",
       "    .dataframe tbody tr th:only-of-type {\n",
       "        vertical-align: middle;\n",
       "    }\n",
       "\n",
       "    .dataframe tbody tr th {\n",
       "        vertical-align: top;\n",
       "    }\n",
       "\n",
       "    .dataframe thead th {\n",
       "        text-align: right;\n",
       "    }\n",
       "</style>\n",
       "<table border=\"1\" class=\"dataframe\">\n",
       "  <thead>\n",
       "    <tr style=\"text-align: right;\">\n",
       "      <th></th>\n",
       "      <th>text</th>\n",
       "      <th>label</th>\n",
       "    </tr>\n",
       "  </thead>\n",
       "  <tbody>\n",
       "    <tr>\n",
       "      <th>119990</th>\n",
       "      <td>Barack Obama Gets  #36;1.9 Million Book Deal (...</td>\n",
       "      <td>0</td>\n",
       "    </tr>\n",
       "    <tr>\n",
       "      <th>119991</th>\n",
       "      <td>Rauffer Beats Favorites to Win Downhill  VAL G...</td>\n",
       "      <td>1</td>\n",
       "    </tr>\n",
       "    <tr>\n",
       "      <th>119992</th>\n",
       "      <td>Iraqis Face Winter Shivering by Candlelight  B...</td>\n",
       "      <td>0</td>\n",
       "    </tr>\n",
       "    <tr>\n",
       "      <th>119993</th>\n",
       "      <td>AU Says Sudan Begins Troop Withdrawal from Dar...</td>\n",
       "      <td>0</td>\n",
       "    </tr>\n",
       "    <tr>\n",
       "      <th>119994</th>\n",
       "      <td>Syria Redeploys Some Security Forces in Lebano...</td>\n",
       "      <td>0</td>\n",
       "    </tr>\n",
       "    <tr>\n",
       "      <th>119995</th>\n",
       "      <td>Pakistan's Musharraf Says Won't Quit as Army C...</td>\n",
       "      <td>0</td>\n",
       "    </tr>\n",
       "    <tr>\n",
       "      <th>119996</th>\n",
       "      <td>Renteria signing a top-shelf deal Red Sox gene...</td>\n",
       "      <td>1</td>\n",
       "    </tr>\n",
       "    <tr>\n",
       "      <th>119997</th>\n",
       "      <td>Saban not going to Dolphins yet The Miami Dolp...</td>\n",
       "      <td>1</td>\n",
       "    </tr>\n",
       "    <tr>\n",
       "      <th>119998</th>\n",
       "      <td>Today's NFL games PITTSBURGH at NY GIANTS Time...</td>\n",
       "      <td>1</td>\n",
       "    </tr>\n",
       "    <tr>\n",
       "      <th>119999</th>\n",
       "      <td>Nets get Carter from Raptors INDIANAPOLIS -- A...</td>\n",
       "      <td>1</td>\n",
       "    </tr>\n",
       "  </tbody>\n",
       "</table>\n",
       "</div>"
      ],
      "text/plain": [
       "                                                     text  label\n",
       "119990  Barack Obama Gets  #36;1.9 Million Book Deal (...      0\n",
       "119991  Rauffer Beats Favorites to Win Downhill  VAL G...      1\n",
       "119992  Iraqis Face Winter Shivering by Candlelight  B...      0\n",
       "119993  AU Says Sudan Begins Troop Withdrawal from Dar...      0\n",
       "119994  Syria Redeploys Some Security Forces in Lebano...      0\n",
       "119995  Pakistan's Musharraf Says Won't Quit as Army C...      0\n",
       "119996  Renteria signing a top-shelf deal Red Sox gene...      1\n",
       "119997  Saban not going to Dolphins yet The Miami Dolp...      1\n",
       "119998  Today's NFL games PITTSBURGH at NY GIANTS Time...      1\n",
       "119999  Nets get Carter from Raptors INDIANAPOLIS -- A...      1"
      ]
     },
     "execution_count": 14,
     "metadata": {},
     "output_type": "execute_result"
    }
   ],
   "source": [
    "ag_news_train_df.tail(10)"
   ]
  },
  {
   "cell_type": "code",
   "execution_count": 15,
   "metadata": {
    "colab": {
     "base_uri": "https://localhost:8080/",
     "height": 359
    },
    "id": "4x9gEPWCo8zH",
    "outputId": "aa952def-be92-4269-9c17-46abc32792a5"
   },
   "outputs": [
    {
     "data": {
      "text/html": [
       "<div>\n",
       "<style scoped>\n",
       "    .dataframe tbody tr th:only-of-type {\n",
       "        vertical-align: middle;\n",
       "    }\n",
       "\n",
       "    .dataframe tbody tr th {\n",
       "        vertical-align: top;\n",
       "    }\n",
       "\n",
       "    .dataframe thead th {\n",
       "        text-align: right;\n",
       "    }\n",
       "</style>\n",
       "<table border=\"1\" class=\"dataframe\">\n",
       "  <thead>\n",
       "    <tr style=\"text-align: right;\">\n",
       "      <th></th>\n",
       "      <th>text</th>\n",
       "      <th>label</th>\n",
       "    </tr>\n",
       "  </thead>\n",
       "  <tbody>\n",
       "    <tr>\n",
       "      <th>0</th>\n",
       "      <td>Fears for T N pension after talks Unions repre...</td>\n",
       "      <td>2</td>\n",
       "    </tr>\n",
       "    <tr>\n",
       "      <th>1</th>\n",
       "      <td>The Race is On: Second Private Team Sets Launc...</td>\n",
       "      <td>3</td>\n",
       "    </tr>\n",
       "    <tr>\n",
       "      <th>2</th>\n",
       "      <td>Ky. Company Wins Grant to Study Peptides (AP) ...</td>\n",
       "      <td>3</td>\n",
       "    </tr>\n",
       "    <tr>\n",
       "      <th>3</th>\n",
       "      <td>Prediction Unit Helps Forecast Wildfires (AP) ...</td>\n",
       "      <td>3</td>\n",
       "    </tr>\n",
       "    <tr>\n",
       "      <th>4</th>\n",
       "      <td>Calif. Aims to Limit Farm-Related Smog (AP) AP...</td>\n",
       "      <td>3</td>\n",
       "    </tr>\n",
       "    <tr>\n",
       "      <th>5</th>\n",
       "      <td>Open Letter Against British Copyright Indoctri...</td>\n",
       "      <td>3</td>\n",
       "    </tr>\n",
       "    <tr>\n",
       "      <th>6</th>\n",
       "      <td>Loosing the War on Terrorism \\\\\"Sven Jaschan, ...</td>\n",
       "      <td>3</td>\n",
       "    </tr>\n",
       "    <tr>\n",
       "      <th>7</th>\n",
       "      <td>FOAFKey: FOAF, PGP, Key Distribution, and Bloo...</td>\n",
       "      <td>3</td>\n",
       "    </tr>\n",
       "    <tr>\n",
       "      <th>8</th>\n",
       "      <td>E-mail scam targets police chief Wiltshire Pol...</td>\n",
       "      <td>3</td>\n",
       "    </tr>\n",
       "    <tr>\n",
       "      <th>9</th>\n",
       "      <td>Card fraud unit nets 36,000 cards In its first...</td>\n",
       "      <td>3</td>\n",
       "    </tr>\n",
       "  </tbody>\n",
       "</table>\n",
       "</div>"
      ],
      "text/plain": [
       "                                                text  label\n",
       "0  Fears for T N pension after talks Unions repre...      2\n",
       "1  The Race is On: Second Private Team Sets Launc...      3\n",
       "2  Ky. Company Wins Grant to Study Peptides (AP) ...      3\n",
       "3  Prediction Unit Helps Forecast Wildfires (AP) ...      3\n",
       "4  Calif. Aims to Limit Farm-Related Smog (AP) AP...      3\n",
       "5  Open Letter Against British Copyright Indoctri...      3\n",
       "6  Loosing the War on Terrorism \\\\\"Sven Jaschan, ...      3\n",
       "7  FOAFKey: FOAF, PGP, Key Distribution, and Bloo...      3\n",
       "8  E-mail scam targets police chief Wiltshire Pol...      3\n",
       "9  Card fraud unit nets 36,000 cards In its first...      3"
      ]
     },
     "execution_count": 15,
     "metadata": {},
     "output_type": "execute_result"
    }
   ],
   "source": [
    "ag_news_test_df = pd.DataFrame(data=ag_news_test)\n",
    "ag_news_test_df.head(10)"
   ]
  },
  {
   "cell_type": "code",
   "execution_count": 16,
   "metadata": {
    "colab": {
     "base_uri": "https://localhost:8080/",
     "height": 359
    },
    "id": "V8M3sRjYpHwi",
    "outputId": "ca1c0016-013a-43ba-b8a3-eef69bd37706"
   },
   "outputs": [
    {
     "data": {
      "text/html": [
       "<div>\n",
       "<style scoped>\n",
       "    .dataframe tbody tr th:only-of-type {\n",
       "        vertical-align: middle;\n",
       "    }\n",
       "\n",
       "    .dataframe tbody tr th {\n",
       "        vertical-align: top;\n",
       "    }\n",
       "\n",
       "    .dataframe thead th {\n",
       "        text-align: right;\n",
       "    }\n",
       "</style>\n",
       "<table border=\"1\" class=\"dataframe\">\n",
       "  <thead>\n",
       "    <tr style=\"text-align: right;\">\n",
       "      <th></th>\n",
       "      <th>text</th>\n",
       "      <th>label</th>\n",
       "    </tr>\n",
       "  </thead>\n",
       "  <tbody>\n",
       "    <tr>\n",
       "      <th>7590</th>\n",
       "      <td>Saban hiring on hold DAVIE - The Dolphins want...</td>\n",
       "      <td>1</td>\n",
       "    </tr>\n",
       "    <tr>\n",
       "      <th>7591</th>\n",
       "      <td>Bosnian-Serb prime minister resigns in protest...</td>\n",
       "      <td>0</td>\n",
       "    </tr>\n",
       "    <tr>\n",
       "      <th>7592</th>\n",
       "      <td>Historic Turkey-EU deal welcomed The European ...</td>\n",
       "      <td>0</td>\n",
       "    </tr>\n",
       "    <tr>\n",
       "      <th>7593</th>\n",
       "      <td>Mortaza strikes to lead superb Bangladesh rall...</td>\n",
       "      <td>1</td>\n",
       "    </tr>\n",
       "    <tr>\n",
       "      <th>7594</th>\n",
       "      <td>Powell pushes diplomacy for N. Korea WASHINGTO...</td>\n",
       "      <td>0</td>\n",
       "    </tr>\n",
       "    <tr>\n",
       "      <th>7595</th>\n",
       "      <td>Around the world Ukrainian presidential candid...</td>\n",
       "      <td>0</td>\n",
       "    </tr>\n",
       "    <tr>\n",
       "      <th>7596</th>\n",
       "      <td>Void is filled with Clement With the supply of...</td>\n",
       "      <td>1</td>\n",
       "    </tr>\n",
       "    <tr>\n",
       "      <th>7597</th>\n",
       "      <td>Martinez leaves bitter Like Roger Clemens did ...</td>\n",
       "      <td>1</td>\n",
       "    </tr>\n",
       "    <tr>\n",
       "      <th>7598</th>\n",
       "      <td>5 of arthritis patients in Singapore take Bext...</td>\n",
       "      <td>2</td>\n",
       "    </tr>\n",
       "    <tr>\n",
       "      <th>7599</th>\n",
       "      <td>EBay gets into rentals EBay plans to buy the a...</td>\n",
       "      <td>2</td>\n",
       "    </tr>\n",
       "  </tbody>\n",
       "</table>\n",
       "</div>"
      ],
      "text/plain": [
       "                                                   text  label\n",
       "7590  Saban hiring on hold DAVIE - The Dolphins want...      1\n",
       "7591  Bosnian-Serb prime minister resigns in protest...      0\n",
       "7592  Historic Turkey-EU deal welcomed The European ...      0\n",
       "7593  Mortaza strikes to lead superb Bangladesh rall...      1\n",
       "7594  Powell pushes diplomacy for N. Korea WASHINGTO...      0\n",
       "7595  Around the world Ukrainian presidential candid...      0\n",
       "7596  Void is filled with Clement With the supply of...      1\n",
       "7597  Martinez leaves bitter Like Roger Clemens did ...      1\n",
       "7598  5 of arthritis patients in Singapore take Bext...      2\n",
       "7599  EBay gets into rentals EBay plans to buy the a...      2"
      ]
     },
     "execution_count": 16,
     "metadata": {},
     "output_type": "execute_result"
    }
   ],
   "source": [
    "ag_news_test_df.tail(10)"
   ]
  },
  {
   "cell_type": "markdown",
   "metadata": {},
   "source": [
    "---"
   ]
  },
  {
   "attachments": {},
   "cell_type": "markdown",
   "metadata": {
    "id": "i2PXn2F9mI1n"
   },
   "source": [
    "### Data Preprocessing:"
   ]
  },
  {
   "cell_type": "code",
   "execution_count": 17,
   "metadata": {
    "id": "p_YxGAj9kR_U"
   },
   "outputs": [],
   "source": [
    "class_label_names = ['World', 'Sports', 'Business', 'Sci/Tech']"
   ]
  },
  {
   "cell_type": "code",
   "execution_count": 18,
   "metadata": {
    "colab": {
     "base_uri": "https://localhost:8080/",
     "height": 510
    },
    "id": "ywIAe3NSmq-m",
    "outputId": "40f901b4-038a-4b95-a558-d31c722dbed5"
   },
   "outputs": [
    {
     "name": "stdout",
     "output_type": "stream",
     "text": [
      "['label_0', 'label_1', 'label_2', 'label_3']\n",
      "   label_0  label_1  label_2  label_3\n",
      "0      0.0      0.0      1.0      0.0\n",
      "1      0.0      0.0      1.0      0.0\n",
      "2      0.0      0.0      1.0      0.0\n",
      "3      0.0      0.0      1.0      0.0\n",
      "4      0.0      0.0      1.0      0.0\n",
      "['label_0', 'label_1', 'label_2', 'label_3']\n",
      "   label_0  label_1  label_2  label_3\n",
      "0      0.0      0.0      1.0      0.0\n",
      "1      0.0      0.0      0.0      1.0\n",
      "2      0.0      0.0      0.0      1.0\n",
      "3      0.0      0.0      0.0      1.0\n",
      "4      0.0      0.0      0.0      1.0\n",
      "preprocessing train...\n",
      "language: en\n"
     ]
    },
    {
     "data": {
      "text/html": [
       "\n",
       "<style>\n",
       "    /* Turns off some styling */\n",
       "    progress {\n",
       "        /* gets rid of default border in Firefox and Opera. */\n",
       "        border: none;\n",
       "        /* Needs to be in here for Safari polyfill so background images work as expected. */\n",
       "        background-size: auto;\n",
       "    }\n",
       "    progress:not([value]), progress:not([value])::-webkit-progress-bar {\n",
       "        background: repeating-linear-gradient(45deg, #7e7e7e, #7e7e7e 10px, #5c5c5c 10px, #5c5c5c 20px);\n",
       "    }\n",
       "    .progress-bar-interrupted, .progress-bar-interrupted::-webkit-progress-bar {\n",
       "        background: #F44336;\n",
       "    }\n",
       "</style>\n"
      ],
      "text/plain": [
       "<IPython.core.display.HTML object>"
      ]
     },
     "metadata": {},
     "output_type": "display_data"
    },
    {
     "data": {
      "text/html": [
       "done."
      ],
      "text/plain": [
       "<IPython.core.display.HTML object>"
      ]
     },
     "metadata": {},
     "output_type": "display_data"
    },
    {
     "name": "stdout",
     "output_type": "stream",
     "text": [
      "Is Multi-Label? False\n",
      "preprocessing test...\n",
      "language: en\n"
     ]
    },
    {
     "data": {
      "text/html": [
       "\n",
       "<style>\n",
       "    /* Turns off some styling */\n",
       "    progress {\n",
       "        /* gets rid of default border in Firefox and Opera. */\n",
       "        border: none;\n",
       "        /* Needs to be in here for Safari polyfill so background images work as expected. */\n",
       "        background-size: auto;\n",
       "    }\n",
       "    progress:not([value]), progress:not([value])::-webkit-progress-bar {\n",
       "        background: repeating-linear-gradient(45deg, #7e7e7e, #7e7e7e 10px, #5c5c5c 10px, #5c5c5c 20px);\n",
       "    }\n",
       "    .progress-bar-interrupted, .progress-bar-interrupted::-webkit-progress-bar {\n",
       "        background: #F44336;\n",
       "    }\n",
       "</style>\n"
      ],
      "text/plain": [
       "<IPython.core.display.HTML object>"
      ]
     },
     "metadata": {},
     "output_type": "display_data"
    },
    {
     "data": {
      "text/html": [
       "done."
      ],
      "text/plain": [
       "<IPython.core.display.HTML object>"
      ]
     },
     "metadata": {},
     "output_type": "display_data"
    }
   ],
   "source": [
    "# Use the 'texts_from_df' function to prepare text data for BERT-based text classification\n",
    "(X_train, y_train), (X_test, y_test), preprocessing_var = text.texts_from_df(\n",
    "    train_df=ag_news_train_df,     # Training DataFrame\n",
    "    text_column='text',           # Column containing text data\n",
    "    label_columns='label',        # Column containing labels\n",
    "    val_df=ag_news_test_df,        # Validation DataFrame\n",
    "    maxlen=512,                    # Maximum sequence length\n",
    "    preprocess_mode='bert'        # Preprocessing mode for BERT\n",
    ")\n"
   ]
  },
  {
   "attachments": {},
   "cell_type": "markdown",
   "metadata": {
    "id": "ajnRrG-Krufc"
   },
   "source": [
    "### Create BERT Model:"
   ]
  },
  {
   "cell_type": "code",
   "execution_count": 19,
   "metadata": {
    "colab": {
     "base_uri": "https://localhost:8080/"
    },
    "id": "mAU4657boJWF",
    "outputId": "3ea93166-59b9-45e7-c0b3-cd14e616d49c"
   },
   "outputs": [
    {
     "name": "stdout",
     "output_type": "stream",
     "text": [
      "Is Multi-Label? False\n",
      "maxlen is 512\n"
     ]
    },
    {
     "name": "stderr",
     "output_type": "stream",
     "text": [
      "d:\\PROJECTS\\multiclass-text-class-bert\\Modular_code\\env_bert\\lib\\site-packages\\keras\\initializers\\initializers_v2.py:120: UserWarning: The initializer GlorotNormal is unseeded and being called multiple times, which will return identical values  each time (even if the initializer is unseeded). Please update your code to provide a seed to the initializer, or avoid using the same initalizer instance more than once.\n",
      "  warnings.warn(\n"
     ]
    },
    {
     "name": "stdout",
     "output_type": "stream",
     "text": [
      "done.\n"
     ]
    }
   ],
   "source": [
    "# Create a BERT-based text classification model\n",
    "transformer_bert_model = text.text_classifier(\n",
    "    name='bert',                    # model (BERT)\n",
    "    train_data=(X_train, y_train),  # Training data (text and labels)\n",
    "    preproc=preprocessing_var       # Preprocessing information\n",
    ")\n"
   ]
  },
  {
   "cell_type": "code",
   "execution_count": 20,
   "metadata": {
    "colab": {
     "base_uri": "https://localhost:8080/"
    },
    "id": "lE-qmWDssIa6",
    "outputId": "7c4d06ec-50fb-47de-8bda-c27c841a7fef"
   },
   "outputs": [
    {
     "data": {
      "text/plain": [
       "[<keras.engine.input_layer.InputLayer at 0x2936f2bd6a0>,\n",
       " <keras.engine.input_layer.InputLayer at 0x2931b16fe80>,\n",
       " <keras_bert.layers.embedding.TokenEmbedding at 0x293183ff040>,\n",
       " <keras.layers.core.embedding.Embedding at 0x293211f7c40>,\n",
       " <keras.layers.merging.add.Add at 0x293211f6ac0>,\n",
       " <keras_pos_embd.pos_embd.PositionEmbedding at 0x29334c7d2e0>,\n",
       " <keras.layers.regularization.dropout.Dropout at 0x29334c7d370>,\n",
       " <keras_layer_normalization.layer_normalization.LayerNormalization at 0x29334c65250>,\n",
       " <keras_multi_head.multi_head_attention.MultiHeadAttention at 0x2932ec73ac0>,\n",
       " <keras.layers.regularization.dropout.Dropout at 0x29332c68c40>,\n",
       " <keras.layers.merging.add.Add at 0x29331c84340>,\n",
       " <keras_layer_normalization.layer_normalization.LayerNormalization at 0x29331c60970>,\n",
       " <keras_position_wise_feed_forward.feed_forward.FeedForward at 0x29335c8a430>,\n",
       " <keras.layers.regularization.dropout.Dropout at 0x29345c9da30>,\n",
       " <keras.layers.merging.add.Add at 0x29332c72550>,\n",
       " <keras_layer_normalization.layer_normalization.LayerNormalization at 0x2932ec8b310>,\n",
       " <keras_multi_head.multi_head_attention.MultiHeadAttention at 0x29335c8adf0>,\n",
       " <keras.layers.regularization.dropout.Dropout at 0x29335c8a8e0>,\n",
       " <keras.layers.merging.add.Add at 0x29331c58790>,\n",
       " <keras_layer_normalization.layer_normalization.LayerNormalization at 0x29331c5fca0>,\n",
       " <keras_position_wise_feed_forward.feed_forward.FeedForward at 0x29324d09070>,\n",
       " <keras.layers.regularization.dropout.Dropout at 0x29335c8aa00>,\n",
       " <keras.layers.merging.add.Add at 0x2934bca41c0>,\n",
       " <keras_layer_normalization.layer_normalization.LayerNormalization at 0x2934bc9ce20>,\n",
       " <keras_multi_head.multi_head_attention.MultiHeadAttention at 0x29331c79640>,\n",
       " <keras.layers.regularization.dropout.Dropout at 0x29331c79be0>,\n",
       " <keras.layers.merging.add.Add at 0x29330c45fd0>,\n",
       " <keras_layer_normalization.layer_normalization.LayerNormalization at 0x2934bc9cdf0>,\n",
       " <keras_position_wise_feed_forward.feed_forward.FeedForward at 0x2932ec797f0>,\n",
       " <keras.layers.regularization.dropout.Dropout at 0x2932ec79460>,\n",
       " <keras.layers.merging.add.Add at 0x2934bca92e0>,\n",
       " <keras_layer_normalization.layer_normalization.LayerNormalization at 0x29324cd9220>,\n",
       " <keras_multi_head.multi_head_attention.MultiHeadAttention at 0x29331c56fa0>,\n",
       " <keras.layers.regularization.dropout.Dropout at 0x29330c4f520>,\n",
       " <keras.layers.merging.add.Add at 0x2931b8e4a60>,\n",
       " <keras_layer_normalization.layer_normalization.LayerNormalization at 0x29324dea4c0>,\n",
       " <keras_position_wise_feed_forward.feed_forward.FeedForward at 0x29324dfe400>,\n",
       " <keras.layers.regularization.dropout.Dropout at 0x29331c56280>,\n",
       " <keras.layers.merging.add.Add at 0x29324e12ac0>,\n",
       " <keras_layer_normalization.layer_normalization.LayerNormalization at 0x29324e24070>,\n",
       " <keras_multi_head.multi_head_attention.MultiHeadAttention at 0x29324e2a280>,\n",
       " <keras.layers.regularization.dropout.Dropout at 0x29324e12100>,\n",
       " <keras.layers.merging.add.Add at 0x29324d0e340>,\n",
       " <keras_layer_normalization.layer_normalization.LayerNormalization at 0x29324e3dac0>,\n",
       " <keras_position_wise_feed_forward.feed_forward.FeedForward at 0x29324d97a30>,\n",
       " <keras.layers.regularization.dropout.Dropout at 0x29324d97940>,\n",
       " <keras.layers.merging.add.Add at 0x29324da3610>,\n",
       " <keras_layer_normalization.layer_normalization.LayerNormalization at 0x29324db1160>,\n",
       " <keras_multi_head.multi_head_attention.MultiHeadAttention at 0x29324db1550>,\n",
       " <keras.layers.regularization.dropout.Dropout at 0x29324db1eb0>,\n",
       " <keras.layers.merging.add.Add at 0x29324dcb5b0>,\n",
       " <keras_layer_normalization.layer_normalization.LayerNormalization at 0x29328c41c10>,\n",
       " <keras_position_wise_feed_forward.feed_forward.FeedForward at 0x29328c4ea30>,\n",
       " <keras.layers.regularization.dropout.Dropout at 0x29324db1370>,\n",
       " <keras.layers.merging.add.Add at 0x29328c553d0>,\n",
       " <keras_layer_normalization.layer_normalization.LayerNormalization at 0x29324da9400>,\n",
       " <keras_multi_head.multi_head_attention.MultiHeadAttention at 0x29324da3580>,\n",
       " <keras.layers.regularization.dropout.Dropout at 0x29324db1730>,\n",
       " <keras.layers.merging.add.Add at 0x29328c4ee80>,\n",
       " <keras_layer_normalization.layer_normalization.LayerNormalization at 0x29329c5fdc0>,\n",
       " <keras_position_wise_feed_forward.feed_forward.FeedForward at 0x29324e4bdc0>,\n",
       " <keras.layers.regularization.dropout.Dropout at 0x29324dbd520>,\n",
       " <keras.layers.merging.add.Add at 0x29324d9d4c0>,\n",
       " <keras_layer_normalization.layer_normalization.LayerNormalization at 0x29329c77ca0>,\n",
       " <keras_multi_head.multi_head_attention.MultiHeadAttention at 0x2932bc44b50>,\n",
       " <keras.layers.regularization.dropout.Dropout at 0x2932bc4b0a0>,\n",
       " <keras.layers.merging.add.Add at 0x2932bc4bdc0>,\n",
       " <keras_layer_normalization.layer_normalization.LayerNormalization at 0x2932cc55580>,\n",
       " <keras_position_wise_feed_forward.feed_forward.FeedForward at 0x2932bc53dc0>,\n",
       " <keras.layers.regularization.dropout.Dropout at 0x29324e4bd00>,\n",
       " <keras.layers.merging.add.Add at 0x29324da9cd0>,\n",
       " <keras_layer_normalization.layer_normalization.LayerNormalization at 0x29324da3d30>,\n",
       " <keras_multi_head.multi_head_attention.MultiHeadAttention at 0x2932cc6e8e0>,\n",
       " <keras.layers.regularization.dropout.Dropout at 0x2932bc36d90>,\n",
       " <keras.layers.merging.add.Add at 0x2932bc539d0>,\n",
       " <keras_layer_normalization.layer_normalization.LayerNormalization at 0x2932dc5fd30>,\n",
       " <keras_position_wise_feed_forward.feed_forward.FeedForward at 0x2932cc79880>,\n",
       " <keras.layers.regularization.dropout.Dropout at 0x29324e31fa0>,\n",
       " <keras.layers.merging.add.Add at 0x2932cc6e7c0>,\n",
       " <keras_layer_normalization.layer_normalization.LayerNormalization at 0x29337c9ac40>,\n",
       " <keras_multi_head.multi_head_attention.MultiHeadAttention at 0x29337cada90>,\n",
       " <keras.layers.regularization.dropout.Dropout at 0x2932cc6ea90>,\n",
       " <keras.layers.merging.add.Add at 0x29337c90fd0>,\n",
       " <keras_layer_normalization.layer_normalization.LayerNormalization at 0x29339c5df10>,\n",
       " <keras_position_wise_feed_forward.feed_forward.FeedForward at 0x29329c889d0>,\n",
       " <keras.layers.regularization.dropout.Dropout at 0x29337cad430>,\n",
       " <keras.layers.merging.add.Add at 0x29337cad9d0>,\n",
       " <keras_layer_normalization.layer_normalization.LayerNormalization at 0x2933ac61220>,\n",
       " <keras_multi_head.multi_head_attention.MultiHeadAttention at 0x2933ac71190>,\n",
       " <keras.layers.regularization.dropout.Dropout at 0x29337cad4f0>,\n",
       " <keras.layers.merging.add.Add at 0x29339c5dfa0>,\n",
       " <keras_layer_normalization.layer_normalization.LayerNormalization at 0x2933ac9aeb0>,\n",
       " <keras_position_wise_feed_forward.feed_forward.FeedForward at 0x2933ac71100>,\n",
       " <keras.layers.regularization.dropout.Dropout at 0x29329c88820>,\n",
       " <keras.layers.merging.add.Add at 0x2933ac71b50>,\n",
       " <keras_layer_normalization.layer_normalization.LayerNormalization at 0x2933dc54e50>,\n",
       " <keras_multi_head.multi_head_attention.MultiHeadAttention at 0x2933dc64d00>,\n",
       " <keras.layers.regularization.dropout.Dropout at 0x2933dc5c7f0>,\n",
       " <keras.layers.merging.add.Add at 0x2933ac71340>,\n",
       " <keras_layer_normalization.layer_normalization.LayerNormalization at 0x2933dc54310>,\n",
       " <keras_position_wise_feed_forward.feed_forward.FeedForward at 0x2933ac81190>,\n",
       " <keras.layers.regularization.dropout.Dropout at 0x2933bc9c700>,\n",
       " <keras.layers.merging.add.Add at 0x2933dc5c2e0>,\n",
       " <keras_layer_normalization.layer_normalization.LayerNormalization at 0x2933ec73f70>,\n",
       " <keras_bert.layers.extract.Extract at 0x2933fc83c10>,\n",
       " <keras.layers.core.dense.Dense at 0x2931a882760>,\n",
       " <keras.layers.core.dense.Dense at 0x2931b16fe20>]"
      ]
     },
     "execution_count": 20,
     "metadata": {},
     "output_type": "execute_result"
    }
   ],
   "source": [
    "transformer_bert_model.layers"
   ]
  },
  {
   "cell_type": "markdown",
   "metadata": {},
   "source": [
    "---"
   ]
  },
  {
   "attachments": {},
   "cell_type": "markdown",
   "metadata": {
    "id": "7JvE_HtssoS2"
   },
   "source": [
    "### Compile and train Bert in a Learner Object:"
   ]
  },
  {
   "cell_type": "code",
   "execution_count": 21,
   "metadata": {
    "id": "ESVzavLLsUCQ"
   },
   "outputs": [],
   "source": [
    "# Create a BERT learner for text classification with a specific batch size.\n",
    "bert_learner = ktrain.get_learner(model=TransformerBERTModel,\n",
    "                            train_data=(X_train, y_train),\n",
    "                            val_data=(X_test, y_test),\n",
    "                            batch_size=6)\n"
   ]
  },
  {
   "attachments": {},
   "cell_type": "markdown",
   "metadata": {
    "id": "M5eJlaNm2NaD"
   },
   "source": [
    "### Best Hyper-parameters for BERT:\n",
    "• Batch size: 16, 32\n",
    "\n",
    "• Learning rate: 5e-5, 3e-5, 2e-5\n",
    "\n",
    "• Number of epochs: 2, 3, 4"
   ]
  },
  {
   "attachments": {},
   "cell_type": "markdown",
   "metadata": {
    "id": "xCwje43S223X"
   },
   "source": [
    "### Train BERT on AG-News dataset:"
   ]
  },
  {
   "cell_type": "code",
   "execution_count": null,
   "metadata": {
    "colab": {
     "base_uri": "https://localhost:8080/"
    },
    "id": "hwNoi8Dw1geq",
    "outputId": "62b6b3a3-9876-4edb-f950-9d160a266885"
   },
   "outputs": [],
   "source": [
    "# Record the starting time of training\n",
    "training_start_time = timeit.default_timer()\n",
    "\n",
    "# Call the 'fit_onecycle' method to train the BERT model with a learning rate of 2e-5 for 3 epochs\n",
    "bert_learner.fit_onecycle(lr=2e-5, epochs=3)\n",
    "\n",
    "# Record the ending time of training\n",
    "training_stop_time = timeit.default_timer()\n"
   ]
  },
  {
   "cell_type": "code",
   "execution_count": null,
   "metadata": {
    "colab": {
     "base_uri": "https://localhost:8080/"
    },
    "id": "FyODTOOl3bZo",
    "outputId": "9da37e4c-aa00-4910-b284-ffe40bea17b2"
   },
   "outputs": [],
   "source": [
    "#print(\"Total training time in minutes: \\n\", (training_stop_time - training_start_time)/60)  \n",
    "#print(\"Total training time in hours: \\n\", (training_stop_time - training_start_time)/3600)  "
   ]
  },
  {
   "cell_type": "markdown",
   "metadata": {},
   "source": [
    "---"
   ]
  },
  {
   "attachments": {},
   "cell_type": "markdown",
   "metadata": {
    "id": "nHNeBpL_P_qD"
   },
   "source": [
    "### Checking BERT performance metrics:"
   ]
  },
  {
   "cell_type": "code",
   "execution_count": null,
   "metadata": {
    "colab": {
     "base_uri": "https://localhost:8080/"
    },
    "id": "iDVcwDMdJB9-",
    "outputId": "a3e17eb5-a3ad-4fed-87be-4f9260452fad"
   },
   "outputs": [
    {
     "name": "stdout",
     "output_type": "stream",
     "text": [
      "              precision    recall  f1-score   support\n",
      "\n",
      "           0       0.97      0.96      0.96      1900\n",
      "           1       0.99      0.99      0.99      1900\n",
      "           2       0.93      0.92      0.92      1900\n",
      "           3       0.92      0.94      0.93      1900\n",
      "\n",
      "    accuracy                           0.95      7600\n",
      "   macro avg       0.95      0.95      0.95      7600\n",
      "weighted avg       0.95      0.95      0.95      7600\n",
      "\n"
     ]
    },
    {
     "data": {
      "text/plain": [
       "array([[1824,    6,   36,   34],\n",
       "       [  10, 1875,    8,    7],\n",
       "       [  32,    6, 1741,  121],\n",
       "       [  23,    9,   88, 1780]])"
      ]
     },
     "execution_count": 30,
     "metadata": {
      "tags": []
     },
     "output_type": "execute_result"
    }
   ],
   "source": [
    "# Validate BERT model's performance.\n",
    "bert_learner.validate()\n"
   ]
  },
  {
   "cell_type": "code",
   "execution_count": null,
   "metadata": {
    "colab": {
     "base_uri": "https://localhost:8080/"
    },
    "id": "7Ra3L_cbQMRw",
    "outputId": "5e12f31f-0486-4725-a0c0-8e660b7c03a2"
   },
   "outputs": [
    {
     "name": "stdout",
     "output_type": "stream",
     "text": [
      "              precision    recall  f1-score   support\n",
      "\n",
      "       World       0.97      0.96      0.96      1900\n",
      "      Sports       0.99      0.99      0.99      1900\n",
      "    Business       0.93      0.92      0.92      1900\n",
      "    Sci/Tech       0.92      0.94      0.93      1900\n",
      "\n",
      "    accuracy                           0.95      7600\n",
      "   macro avg       0.95      0.95      0.95      7600\n",
      "weighted avg       0.95      0.95      0.95      7600\n",
      "\n"
     ]
    },
    {
     "data": {
      "text/plain": [
       "array([[1824,    6,   36,   34],\n",
       "       [  10, 1875,    8,    7],\n",
       "       [  32,    6, 1741,  121],\n",
       "       [  23,    9,   88, 1780]])"
      ]
     },
     "execution_count": 31,
     "metadata": {
      "tags": []
     },
     "output_type": "execute_result"
    }
   ],
   "source": [
    "# Validate BERT model's performance on classification with optional class labels.\n",
    "bert_learner.validate(class_names=class_label_names)"
   ]
  },
  {
   "cell_type": "markdown",
   "metadata": {},
   "source": [
    "---"
   ]
  },
  {
   "attachments": {},
   "cell_type": "markdown",
   "metadata": {
    "id": "RwyiTMbrTFL3"
   },
   "source": [
    "### Saving the model:"
   ]
  },
  {
   "cell_type": "code",
   "execution_count": null,
   "metadata": {
    "colab": {
     "base_uri": "https://localhost:8080/"
    },
    "id": "gx6epZj1TEIS",
    "outputId": "0b2ee00c-3809-4ee2-f071-2cba53fffaa0"
   },
   "outputs": [
    {
     "data": {
      "text/plain": [
       "['label_0', 'label_1', 'label_2', 'label_3']"
      ]
     },
     "execution_count": 32,
     "metadata": {
      "tags": []
     },
     "output_type": "execute_result"
    }
   ],
   "source": [
    "# Create a BERT predictor using a BERT model and a specified preprocessing configuration.\n",
    "bert_predictor = ktrain.get_predictor(bert_learner.model, preproc=preprocessing_var)\n",
    "\n",
    "# Get the classes (labels) associated with the BERT predictor.\n",
    "class_labels = bert_predictor.get_classes()\n"
   ]
  },
  {
   "cell_type": "code",
   "execution_count": null,
   "metadata": {
    "colab": {
     "base_uri": "https://localhost:8080/"
    },
    "id": "WL2Nz-ZoREbU",
    "outputId": "554a8cd5-b8ce-4170-8390-dd555cbc276f"
   },
   "outputs": [
    {
     "name": "stderr",
     "output_type": "stream",
     "text": [
      "/usr/local/lib/python3.7/dist-packages/tensorflow/python/keras/utils/generic_utils.py:497: CustomMaskWarning: Custom mask layers require a config and must override get_config. When loading, the custom mask layer must be passed to the custom_objects argument.\n",
      "  category=CustomMaskWarning)\n"
     ]
    }
   ],
   "source": [
    "# Save the BERT predictor to a specified file path.\n",
    "bert_predictor.save('/content/bert-ag-news-predictor')"
   ]
  },
  {
   "cell_type": "code",
   "execution_count": null,
   "metadata": {
    "colab": {
     "base_uri": "https://localhost:8080/"
    },
    "id": "oLjQjQnqUfKb",
    "outputId": "a4fb3ffb-05ac-433a-9657-bf7842b2316b"
   },
   "outputs": [
    {
     "name": "stdout",
     "output_type": "stream",
     "text": [
      "  adding: content/bert-ag-news-predictor/ (stored 0%)\n",
      "  adding: content/bert-ag-news-predictor/tf_model.preproc (deflated 52%)\n",
      "  adding: content/bert-ag-news-predictor/tf_model.h5 (deflated 11%)\n"
     ]
    }
   ],
   "source": [
    "!zip -r /content/bert-ag-news-predictor.zip /content/bert-ag-news-predictor"
   ]
  },
  {
   "cell_type": "markdown",
   "metadata": {},
   "source": [
    "---"
   ]
  },
  {
   "attachments": {},
   "cell_type": "markdown",
   "metadata": {
    "id": "EfnEdrqlZk_u"
   },
   "source": [
    "### Re-loading Model:"
   ]
  },
  {
   "cell_type": "code",
   "execution_count": null,
   "metadata": {
    "colab": {
     "base_uri": "https://localhost:8080/"
    },
    "id": "j-QhmsLaU3TA",
    "outputId": "05aa59f8-bbd4-469d-c70f-5bb110d1fbc6"
   },
   "outputs": [
    {
     "data": {
      "text/plain": [
       "['label_0', 'label_1', 'label_2', 'label_3']"
      ]
     },
     "execution_count": 35,
     "metadata": {
      "tags": []
     },
     "output_type": "execute_result"
    }
   ],
   "source": [
    "# Load a BERT predictor from a previously saved file.\n",
    "bert_predictor_2 = ktrain.load_predictor('/content/bert-ag-news-predictor')\n",
    "\n",
    "# Get the classes (labels) associated with the loaded BERT predictor.\n",
    "class_labels = bert_predictor_2.get_classes()\n"
   ]
  },
  {
   "cell_type": "markdown",
   "metadata": {},
   "source": [
    "---"
   ]
  }
 ],
 "metadata": {
  "accelerator": "GPU",
  "colab": {
   "collapsed_sections": [],
   "machine_shape": "hm",
   "name": "Bert-AG-News-Classification.ipynb",
   "provenance": []
  },
  "kernelspec": {
   "display_name": "env",
   "language": "python",
   "name": "python3"
  },
  "language_info": {
   "codemirror_mode": {
    "name": "ipython",
    "version": 3
   },
   "file_extension": ".py",
   "mimetype": "text/x-python",
   "name": "python",
   "nbconvert_exporter": "python",
   "pygments_lexer": "ipython3",
   "version": "3.8.10"
  },
  "vscode": {
   "interpreter": {
    "hash": "1c3027943d9300162e9c8a8f57080e8fda622367fe05698dee1c29a7f7d39709"
   }
  },
  "widgets": {
   "application/vnd.jupyter.widget-state+json": {
    "029a0c3d5423499888aed0e46ec14559": {
     "model_module": "@jupyter-widgets/base",
     "model_name": "LayoutModel",
     "state": {
      "_model_module": "@jupyter-widgets/base",
      "_model_module_version": "1.2.0",
      "_model_name": "LayoutModel",
      "_view_count": null,
      "_view_module": "@jupyter-widgets/base",
      "_view_module_version": "1.2.0",
      "_view_name": "LayoutView",
      "align_content": null,
      "align_items": null,
      "align_self": null,
      "border": null,
      "bottom": null,
      "display": null,
      "flex": null,
      "flex_flow": null,
      "grid_area": null,
      "grid_auto_columns": null,
      "grid_auto_flow": null,
      "grid_auto_rows": null,
      "grid_column": null,
      "grid_gap": null,
      "grid_row": null,
      "grid_template_areas": null,
      "grid_template_columns": null,
      "grid_template_rows": null,
      "height": null,
      "justify_content": null,
      "justify_items": null,
      "left": null,
      "margin": null,
      "max_height": null,
      "max_width": null,
      "min_height": null,
      "min_width": null,
      "object_fit": null,
      "object_position": null,
      "order": null,
      "overflow": null,
      "overflow_x": null,
      "overflow_y": null,
      "padding": null,
      "right": null,
      "top": null,
      "visibility": null,
      "width": null
     }
    },
    "0f2085ff65f04c3d83256c100ad653ac": {
     "model_module": "@jupyter-widgets/controls",
     "model_name": "HBoxModel",
     "state": {
      "_dom_classes": [],
      "_model_module": "@jupyter-widgets/controls",
      "_model_module_version": "1.5.0",
      "_model_name": "HBoxModel",
      "_view_count": null,
      "_view_module": "@jupyter-widgets/controls",
      "_view_module_version": "1.5.0",
      "_view_name": "HBoxView",
      "box_style": "",
      "children": [
       "IPY_MODEL_c49eba9e94d34163b7d41cc12a2ff4ae",
       "IPY_MODEL_5512c797457f49eea89431d2feebfec3",
       "IPY_MODEL_d6d1cafdf548410f9beda1dfbb4cc4b9"
      ],
      "layout": "IPY_MODEL_7c1b3a9187354937a3a5dd9ba0e0df52"
     }
    },
    "13edd0f316c14f41afb25c263752db35": {
     "model_module": "@jupyter-widgets/base",
     "model_name": "LayoutModel",
     "state": {
      "_model_module": "@jupyter-widgets/base",
      "_model_module_version": "1.2.0",
      "_model_name": "LayoutModel",
      "_view_count": null,
      "_view_module": "@jupyter-widgets/base",
      "_view_module_version": "1.2.0",
      "_view_name": "LayoutView",
      "align_content": null,
      "align_items": null,
      "align_self": null,
      "border": null,
      "bottom": null,
      "display": null,
      "flex": null,
      "flex_flow": null,
      "grid_area": null,
      "grid_auto_columns": null,
      "grid_auto_flow": null,
      "grid_auto_rows": null,
      "grid_column": null,
      "grid_gap": null,
      "grid_row": null,
      "grid_template_areas": null,
      "grid_template_columns": null,
      "grid_template_rows": null,
      "height": null,
      "justify_content": null,
      "justify_items": null,
      "left": null,
      "margin": null,
      "max_height": null,
      "max_width": null,
      "min_height": null,
      "min_width": null,
      "object_fit": null,
      "object_position": null,
      "order": null,
      "overflow": null,
      "overflow_x": null,
      "overflow_y": null,
      "padding": null,
      "right": null,
      "top": null,
      "visibility": null,
      "width": "20px"
     }
    },
    "166fe151f9c94cd38aa6cfc875d8ec6f": {
     "model_module": "@jupyter-widgets/base",
     "model_name": "LayoutModel",
     "state": {
      "_model_module": "@jupyter-widgets/base",
      "_model_module_version": "1.2.0",
      "_model_name": "LayoutModel",
      "_view_count": null,
      "_view_module": "@jupyter-widgets/base",
      "_view_module_version": "1.2.0",
      "_view_name": "LayoutView",
      "align_content": null,
      "align_items": null,
      "align_self": null,
      "border": null,
      "bottom": null,
      "display": null,
      "flex": null,
      "flex_flow": null,
      "grid_area": null,
      "grid_auto_columns": null,
      "grid_auto_flow": null,
      "grid_auto_rows": null,
      "grid_column": null,
      "grid_gap": null,
      "grid_row": null,
      "grid_template_areas": null,
      "grid_template_columns": null,
      "grid_template_rows": null,
      "height": null,
      "justify_content": null,
      "justify_items": null,
      "left": null,
      "margin": null,
      "max_height": null,
      "max_width": null,
      "min_height": null,
      "min_width": null,
      "object_fit": null,
      "object_position": null,
      "order": null,
      "overflow": null,
      "overflow_x": null,
      "overflow_y": null,
      "padding": null,
      "right": null,
      "top": null,
      "visibility": null,
      "width": null
     }
    },
    "1cd9126ff631413f826a78a07b086043": {
     "model_module": "@jupyter-widgets/controls",
     "model_name": "HTMLModel",
     "state": {
      "_dom_classes": [],
      "_model_module": "@jupyter-widgets/controls",
      "_model_module_version": "1.5.0",
      "_model_name": "HTMLModel",
      "_view_count": null,
      "_view_module": "@jupyter-widgets/controls",
      "_view_module_version": "1.5.0",
      "_view_name": "HTMLView",
      "description": "",
      "description_tooltip": null,
      "layout": "IPY_MODEL_73028973197c4357b0f57de4c12a466e",
      "placeholder": "​",
      "style": "IPY_MODEL_4c68c33bb6e24e309a3e5e15ff2467b1",
      "value": "Downloading: "
     }
    },
    "220aa9730ee141b78a944d3f32a93ec0": {
     "model_module": "@jupyter-widgets/controls",
     "model_name": "DescriptionStyleModel",
     "state": {
      "_model_module": "@jupyter-widgets/controls",
      "_model_module_version": "1.5.0",
      "_model_name": "DescriptionStyleModel",
      "_view_count": null,
      "_view_module": "@jupyter-widgets/base",
      "_view_module_version": "1.2.0",
      "_view_name": "StyleView",
      "description_width": ""
     }
    },
    "29965bed91064c469425747f07e19c8c": {
     "model_module": "@jupyter-widgets/controls",
     "model_name": "HBoxModel",
     "state": {
      "_dom_classes": [],
      "_model_module": "@jupyter-widgets/controls",
      "_model_module_version": "1.5.0",
      "_model_name": "HBoxModel",
      "_view_count": null,
      "_view_module": "@jupyter-widgets/controls",
      "_view_module_version": "1.5.0",
      "_view_name": "HBoxView",
      "box_style": "",
      "children": [
       "IPY_MODEL_a3c1aad4bfbc4f0fb01fd5d9825675fb",
       "IPY_MODEL_38c212ee761546d69546e9668ebcfc73",
       "IPY_MODEL_b15ba47b14d244429f69b37f1e9ecce7"
      ],
      "layout": "IPY_MODEL_dff5bb6915354b528e15d2e93703bd35"
     }
    },
    "2ed1a9bf14ed483bacb2f062fdb7eebd": {
     "model_module": "@jupyter-widgets/controls",
     "model_name": "HBoxModel",
     "state": {
      "_dom_classes": [],
      "_model_module": "@jupyter-widgets/controls",
      "_model_module_version": "1.5.0",
      "_model_name": "HBoxModel",
      "_view_count": null,
      "_view_module": "@jupyter-widgets/controls",
      "_view_module_version": "1.5.0",
      "_view_name": "HBoxView",
      "box_style": "",
      "children": [
       "IPY_MODEL_5aa6da4139434564b62872fe32fa965f",
       "IPY_MODEL_9f5b722340c445b5b47938bb822bf7bb",
       "IPY_MODEL_64eda9e87e30484c902c47326803c8eb"
      ],
      "layout": "IPY_MODEL_029a0c3d5423499888aed0e46ec14559"
     }
    },
    "339e760e59984bf282a280da209f5e65": {
     "model_module": "@jupyter-widgets/base",
     "model_name": "LayoutModel",
     "state": {
      "_model_module": "@jupyter-widgets/base",
      "_model_module_version": "1.2.0",
      "_model_name": "LayoutModel",
      "_view_count": null,
      "_view_module": "@jupyter-widgets/base",
      "_view_module_version": "1.2.0",
      "_view_name": "LayoutView",
      "align_content": null,
      "align_items": null,
      "align_self": null,
      "border": null,
      "bottom": null,
      "display": null,
      "flex": null,
      "flex_flow": null,
      "grid_area": null,
      "grid_auto_columns": null,
      "grid_auto_flow": null,
      "grid_auto_rows": null,
      "grid_column": null,
      "grid_gap": null,
      "grid_row": null,
      "grid_template_areas": null,
      "grid_template_columns": null,
      "grid_template_rows": null,
      "height": null,
      "justify_content": null,
      "justify_items": null,
      "left": null,
      "margin": null,
      "max_height": null,
      "max_width": null,
      "min_height": null,
      "min_width": null,
      "object_fit": null,
      "object_position": null,
      "order": null,
      "overflow": null,
      "overflow_x": null,
      "overflow_y": null,
      "padding": null,
      "right": null,
      "top": null,
      "visibility": null,
      "width": null
     }
    },
    "3688635daadc48789bbf94cdd769d65d": {
     "model_module": "@jupyter-widgets/controls",
     "model_name": "HBoxModel",
     "state": {
      "_dom_classes": [],
      "_model_module": "@jupyter-widgets/controls",
      "_model_module_version": "1.5.0",
      "_model_name": "HBoxModel",
      "_view_count": null,
      "_view_module": "@jupyter-widgets/controls",
      "_view_module_version": "1.5.0",
      "_view_name": "HBoxView",
      "box_style": "",
      "children": [
       "IPY_MODEL_1cd9126ff631413f826a78a07b086043",
       "IPY_MODEL_953c7c19c1d94ed88c7d5e38a42ee1a4",
       "IPY_MODEL_442793205bbd4861bd061a56b3e40441"
      ],
      "layout": "IPY_MODEL_eb93d18174964fd0bd7bd83dd6f6cc83"
     }
    },
    "38c212ee761546d69546e9668ebcfc73": {
     "model_module": "@jupyter-widgets/controls",
     "model_name": "FloatProgressModel",
     "state": {
      "_dom_classes": [],
      "_model_module": "@jupyter-widgets/controls",
      "_model_module_version": "1.5.0",
      "_model_name": "FloatProgressModel",
      "_view_count": null,
      "_view_module": "@jupyter-widgets/controls",
      "_view_module_version": "1.5.0",
      "_view_name": "ProgressView",
      "bar_style": "success",
      "description": "",
      "description_tooltip": null,
      "layout": "IPY_MODEL_a04585dc2445421aaa0f1a4599ab9dcb",
      "max": 1831,
      "min": 0,
      "orientation": "horizontal",
      "style": "IPY_MODEL_e853992a687843228397386f38f48d75",
      "value": 1831
     }
    },
    "39f77f1455b541bcbf8595c445f8715b": {
     "model_module": "@jupyter-widgets/controls",
     "model_name": "ProgressStyleModel",
     "state": {
      "_model_module": "@jupyter-widgets/controls",
      "_model_module_version": "1.5.0",
      "_model_name": "ProgressStyleModel",
      "_view_count": null,
      "_view_module": "@jupyter-widgets/base",
      "_view_module_version": "1.2.0",
      "_view_name": "StyleView",
      "bar_color": null,
      "description_width": ""
     }
    },
    "3b094394fdfe44028ee004d371efdff9": {
     "model_module": "@jupyter-widgets/controls",
     "model_name": "HBoxModel",
     "state": {
      "_dom_classes": [],
      "_model_module": "@jupyter-widgets/controls",
      "_model_module_version": "1.5.0",
      "_model_name": "HBoxModel",
      "_view_count": null,
      "_view_module": "@jupyter-widgets/controls",
      "_view_module_version": "1.5.0",
      "_view_name": "HBoxView",
      "box_style": "",
      "children": [
       "IPY_MODEL_c607ebffb8124faab5a66d0ac0879e7b",
       "IPY_MODEL_9f98242645cc49a588df5d7e3589305d",
       "IPY_MODEL_e8b092c8e1f54648877b9c5e45328e4e"
      ],
      "layout": "IPY_MODEL_465a2e990c4048f296665186ba862ccb"
     }
    },
    "442793205bbd4861bd061a56b3e40441": {
     "model_module": "@jupyter-widgets/controls",
     "model_name": "HTMLModel",
     "state": {
      "_dom_classes": [],
      "_model_module": "@jupyter-widgets/controls",
      "_model_module_version": "1.5.0",
      "_model_name": "HTMLModel",
      "_view_count": null,
      "_view_module": "@jupyter-widgets/controls",
      "_view_module_version": "1.5.0",
      "_view_name": "HTMLView",
      "description": "",
      "description_tooltip": null,
      "layout": "IPY_MODEL_e96e32f04892426bb822cb9f16b3597d",
      "placeholder": "​",
      "style": "IPY_MODEL_aa755ccb97b740e9bcb4150cfd6cc865",
      "value": " 2.65k/? [00:00&lt;00:00, 83.3kB/s]"
     }
    },
    "465a2e990c4048f296665186ba862ccb": {
     "model_module": "@jupyter-widgets/base",
     "model_name": "LayoutModel",
     "state": {
      "_model_module": "@jupyter-widgets/base",
      "_model_module_version": "1.2.0",
      "_model_name": "LayoutModel",
      "_view_count": null,
      "_view_module": "@jupyter-widgets/base",
      "_view_module_version": "1.2.0",
      "_view_name": "LayoutView",
      "align_content": null,
      "align_items": null,
      "align_self": null,
      "border": null,
      "bottom": null,
      "display": null,
      "flex": null,
      "flex_flow": null,
      "grid_area": null,
      "grid_auto_columns": null,
      "grid_auto_flow": null,
      "grid_auto_rows": null,
      "grid_column": null,
      "grid_gap": null,
      "grid_row": null,
      "grid_template_areas": null,
      "grid_template_columns": null,
      "grid_template_rows": null,
      "height": null,
      "justify_content": null,
      "justify_items": null,
      "left": null,
      "margin": null,
      "max_height": null,
      "max_width": null,
      "min_height": null,
      "min_width": null,
      "object_fit": null,
      "object_position": null,
      "order": null,
      "overflow": null,
      "overflow_x": null,
      "overflow_y": null,
      "padding": null,
      "right": null,
      "top": null,
      "visibility": null,
      "width": null
     }
    },
    "4c68c33bb6e24e309a3e5e15ff2467b1": {
     "model_module": "@jupyter-widgets/controls",
     "model_name": "DescriptionStyleModel",
     "state": {
      "_model_module": "@jupyter-widgets/controls",
      "_model_module_version": "1.5.0",
      "_model_name": "DescriptionStyleModel",
      "_view_count": null,
      "_view_module": "@jupyter-widgets/base",
      "_view_module_version": "1.2.0",
      "_view_name": "StyleView",
      "description_width": ""
     }
    },
    "508c5237ad4d48c3a3c054523f724351": {
     "model_module": "@jupyter-widgets/controls",
     "model_name": "DescriptionStyleModel",
     "state": {
      "_model_module": "@jupyter-widgets/controls",
      "_model_module_version": "1.5.0",
      "_model_name": "DescriptionStyleModel",
      "_view_count": null,
      "_view_module": "@jupyter-widgets/base",
      "_view_module_version": "1.2.0",
      "_view_name": "StyleView",
      "description_width": ""
     }
    },
    "5512c797457f49eea89431d2feebfec3": {
     "model_module": "@jupyter-widgets/controls",
     "model_name": "FloatProgressModel",
     "state": {
      "_dom_classes": [],
      "_model_module": "@jupyter-widgets/controls",
      "_model_module_version": "1.5.0",
      "_model_name": "FloatProgressModel",
      "_view_count": null,
      "_view_module": "@jupyter-widgets/controls",
      "_view_module_version": "1.5.0",
      "_view_name": "ProgressView",
      "bar_style": "success",
      "description": "",
      "description_tooltip": null,
      "layout": "IPY_MODEL_c6426ebb24334b749c201e519f0e2392",
      "max": 11045148,
      "min": 0,
      "orientation": "horizontal",
      "style": "IPY_MODEL_39f77f1455b541bcbf8595c445f8715b",
      "value": 11045148
     }
    },
    "5aa6da4139434564b62872fe32fa965f": {
     "model_module": "@jupyter-widgets/controls",
     "model_name": "HTMLModel",
     "state": {
      "_dom_classes": [],
      "_model_module": "@jupyter-widgets/controls",
      "_model_module_version": "1.5.0",
      "_model_name": "HTMLModel",
      "_view_count": null,
      "_view_module": "@jupyter-widgets/controls",
      "_view_module_version": "1.5.0",
      "_view_name": "HTMLView",
      "description": "",
      "description_tooltip": null,
      "layout": "IPY_MODEL_7cd8e63951304310b77a5103a5b94c67",
      "placeholder": "​",
      "style": "IPY_MODEL_5b58fec350264dd1bf687dd69b9b3090",
      "value": ""
     }
    },
    "5b58fec350264dd1bf687dd69b9b3090": {
     "model_module": "@jupyter-widgets/controls",
     "model_name": "DescriptionStyleModel",
     "state": {
      "_model_module": "@jupyter-widgets/controls",
      "_model_module_version": "1.5.0",
      "_model_name": "DescriptionStyleModel",
      "_view_count": null,
      "_view_module": "@jupyter-widgets/base",
      "_view_module_version": "1.2.0",
      "_view_name": "StyleView",
      "description_width": ""
     }
    },
    "60e1a141dd914239bdb4d5fbfc4e81a0": {
     "model_module": "@jupyter-widgets/controls",
     "model_name": "ProgressStyleModel",
     "state": {
      "_model_module": "@jupyter-widgets/controls",
      "_model_module_version": "1.5.0",
      "_model_name": "ProgressStyleModel",
      "_view_count": null,
      "_view_module": "@jupyter-widgets/base",
      "_view_module_version": "1.2.0",
      "_view_name": "StyleView",
      "bar_color": null,
      "description_width": ""
     }
    },
    "6207353c2e2f4a0196fb7004a25cfaba": {
     "model_module": "@jupyter-widgets/controls",
     "model_name": "FloatProgressModel",
     "state": {
      "_dom_classes": [],
      "_model_module": "@jupyter-widgets/controls",
      "_model_module_version": "1.5.0",
      "_model_name": "FloatProgressModel",
      "_view_count": null,
      "_view_module": "@jupyter-widgets/controls",
      "_view_module_version": "1.5.0",
      "_view_name": "ProgressView",
      "bar_style": "success",
      "description": "",
      "description_tooltip": null,
      "layout": "IPY_MODEL_166fe151f9c94cd38aa6cfc875d8ec6f",
      "max": 751209,
      "min": 0,
      "orientation": "horizontal",
      "style": "IPY_MODEL_8e047ce7dfbd4362947a3f7ec91246fc",
      "value": 751209
     }
    },
    "64eda9e87e30484c902c47326803c8eb": {
     "model_module": "@jupyter-widgets/controls",
     "model_name": "HTMLModel",
     "state": {
      "_dom_classes": [],
      "_model_module": "@jupyter-widgets/controls",
      "_model_module_version": "1.5.0",
      "_model_name": "HTMLModel",
      "_view_count": null,
      "_view_module": "@jupyter-widgets/controls",
      "_view_module_version": "1.5.0",
      "_view_name": "HTMLView",
      "description": "",
      "description_tooltip": null,
      "layout": "IPY_MODEL_9694450e6ed840abbad96cda59397ed0",
      "placeholder": "​",
      "style": "IPY_MODEL_abc4d09e9d224436abbad16ed81fc100",
      "value": " 118591/0 [00:03&lt;00:00, 29453.81 examples/s]"
     }
    },
    "73028973197c4357b0f57de4c12a466e": {
     "model_module": "@jupyter-widgets/base",
     "model_name": "LayoutModel",
     "state": {
      "_model_module": "@jupyter-widgets/base",
      "_model_module_version": "1.2.0",
      "_model_name": "LayoutModel",
      "_view_count": null,
      "_view_module": "@jupyter-widgets/base",
      "_view_module_version": "1.2.0",
      "_view_name": "LayoutView",
      "align_content": null,
      "align_items": null,
      "align_self": null,
      "border": null,
      "bottom": null,
      "display": null,
      "flex": null,
      "flex_flow": null,
      "grid_area": null,
      "grid_auto_columns": null,
      "grid_auto_flow": null,
      "grid_auto_rows": null,
      "grid_column": null,
      "grid_gap": null,
      "grid_row": null,
      "grid_template_areas": null,
      "grid_template_columns": null,
      "grid_template_rows": null,
      "height": null,
      "justify_content": null,
      "justify_items": null,
      "left": null,
      "margin": null,
      "max_height": null,
      "max_width": null,
      "min_height": null,
      "min_width": null,
      "object_fit": null,
      "object_position": null,
      "order": null,
      "overflow": null,
      "overflow_x": null,
      "overflow_y": null,
      "padding": null,
      "right": null,
      "top": null,
      "visibility": null,
      "width": null
     }
    },
    "730be9ab44af43e89a63ac6c4dca2f4d": {
     "model_module": "@jupyter-widgets/controls",
     "model_name": "HBoxModel",
     "state": {
      "_dom_classes": [],
      "_model_module": "@jupyter-widgets/controls",
      "_model_module_version": "1.5.0",
      "_model_name": "HBoxModel",
      "_view_count": null,
      "_view_module": "@jupyter-widgets/controls",
      "_view_module_version": "1.5.0",
      "_view_name": "HBoxView",
      "box_style": "",
      "children": [
       "IPY_MODEL_a07986f33bc0461d8c55d4967263f05f",
       "IPY_MODEL_6207353c2e2f4a0196fb7004a25cfaba",
       "IPY_MODEL_9efd60eb2f674007a451f591dd6f1a35"
      ],
      "layout": "IPY_MODEL_7e82ccbd524f422b8c57b270ab5544bb"
     }
    },
    "7c1b3a9187354937a3a5dd9ba0e0df52": {
     "model_module": "@jupyter-widgets/base",
     "model_name": "LayoutModel",
     "state": {
      "_model_module": "@jupyter-widgets/base",
      "_model_module_version": "1.2.0",
      "_model_name": "LayoutModel",
      "_view_count": null,
      "_view_module": "@jupyter-widgets/base",
      "_view_module_version": "1.2.0",
      "_view_name": "LayoutView",
      "align_content": null,
      "align_items": null,
      "align_self": null,
      "border": null,
      "bottom": null,
      "display": null,
      "flex": null,
      "flex_flow": null,
      "grid_area": null,
      "grid_auto_columns": null,
      "grid_auto_flow": null,
      "grid_auto_rows": null,
      "grid_column": null,
      "grid_gap": null,
      "grid_row": null,
      "grid_template_areas": null,
      "grid_template_columns": null,
      "grid_template_rows": null,
      "height": null,
      "justify_content": null,
      "justify_items": null,
      "left": null,
      "margin": null,
      "max_height": null,
      "max_width": null,
      "min_height": null,
      "min_width": null,
      "object_fit": null,
      "object_position": null,
      "order": null,
      "overflow": null,
      "overflow_x": null,
      "overflow_y": null,
      "padding": null,
      "right": null,
      "top": null,
      "visibility": null,
      "width": null
     }
    },
    "7cd8e63951304310b77a5103a5b94c67": {
     "model_module": "@jupyter-widgets/base",
     "model_name": "LayoutModel",
     "state": {
      "_model_module": "@jupyter-widgets/base",
      "_model_module_version": "1.2.0",
      "_model_name": "LayoutModel",
      "_view_count": null,
      "_view_module": "@jupyter-widgets/base",
      "_view_module_version": "1.2.0",
      "_view_name": "LayoutView",
      "align_content": null,
      "align_items": null,
      "align_self": null,
      "border": null,
      "bottom": null,
      "display": null,
      "flex": null,
      "flex_flow": null,
      "grid_area": null,
      "grid_auto_columns": null,
      "grid_auto_flow": null,
      "grid_auto_rows": null,
      "grid_column": null,
      "grid_gap": null,
      "grid_row": null,
      "grid_template_areas": null,
      "grid_template_columns": null,
      "grid_template_rows": null,
      "height": null,
      "justify_content": null,
      "justify_items": null,
      "left": null,
      "margin": null,
      "max_height": null,
      "max_width": null,
      "min_height": null,
      "min_width": null,
      "object_fit": null,
      "object_position": null,
      "order": null,
      "overflow": null,
      "overflow_x": null,
      "overflow_y": null,
      "padding": null,
      "right": null,
      "top": null,
      "visibility": null,
      "width": null
     }
    },
    "7e82ccbd524f422b8c57b270ab5544bb": {
     "model_module": "@jupyter-widgets/base",
     "model_name": "LayoutModel",
     "state": {
      "_model_module": "@jupyter-widgets/base",
      "_model_module_version": "1.2.0",
      "_model_name": "LayoutModel",
      "_view_count": null,
      "_view_module": "@jupyter-widgets/base",
      "_view_module_version": "1.2.0",
      "_view_name": "LayoutView",
      "align_content": null,
      "align_items": null,
      "align_self": null,
      "border": null,
      "bottom": null,
      "display": null,
      "flex": null,
      "flex_flow": null,
      "grid_area": null,
      "grid_auto_columns": null,
      "grid_auto_flow": null,
      "grid_auto_rows": null,
      "grid_column": null,
      "grid_gap": null,
      "grid_row": null,
      "grid_template_areas": null,
      "grid_template_columns": null,
      "grid_template_rows": null,
      "height": null,
      "justify_content": null,
      "justify_items": null,
      "left": null,
      "margin": null,
      "max_height": null,
      "max_width": null,
      "min_height": null,
      "min_width": null,
      "object_fit": null,
      "object_position": null,
      "order": null,
      "overflow": null,
      "overflow_x": null,
      "overflow_y": null,
      "padding": null,
      "right": null,
      "top": null,
      "visibility": null,
      "width": null
     }
    },
    "8c8aab021f5047d68bb25449fa68ad19": {
     "model_module": "@jupyter-widgets/base",
     "model_name": "LayoutModel",
     "state": {
      "_model_module": "@jupyter-widgets/base",
      "_model_module_version": "1.2.0",
      "_model_name": "LayoutModel",
      "_view_count": null,
      "_view_module": "@jupyter-widgets/base",
      "_view_module_version": "1.2.0",
      "_view_name": "LayoutView",
      "align_content": null,
      "align_items": null,
      "align_self": null,
      "border": null,
      "bottom": null,
      "display": null,
      "flex": null,
      "flex_flow": null,
      "grid_area": null,
      "grid_auto_columns": null,
      "grid_auto_flow": null,
      "grid_auto_rows": null,
      "grid_column": null,
      "grid_gap": null,
      "grid_row": null,
      "grid_template_areas": null,
      "grid_template_columns": null,
      "grid_template_rows": null,
      "height": null,
      "justify_content": null,
      "justify_items": null,
      "left": null,
      "margin": null,
      "max_height": null,
      "max_width": null,
      "min_height": null,
      "min_width": null,
      "object_fit": null,
      "object_position": null,
      "order": null,
      "overflow": null,
      "overflow_x": null,
      "overflow_y": null,
      "padding": null,
      "right": null,
      "top": null,
      "visibility": null,
      "width": null
     }
    },
    "8e047ce7dfbd4362947a3f7ec91246fc": {
     "model_module": "@jupyter-widgets/controls",
     "model_name": "ProgressStyleModel",
     "state": {
      "_model_module": "@jupyter-widgets/controls",
      "_model_module_version": "1.5.0",
      "_model_name": "ProgressStyleModel",
      "_view_count": null,
      "_view_module": "@jupyter-widgets/base",
      "_view_module_version": "1.2.0",
      "_view_name": "StyleView",
      "bar_color": null,
      "description_width": ""
     }
    },
    "952e767bb65a4fbb8c0422ed75d14d05": {
     "model_module": "@jupyter-widgets/base",
     "model_name": "LayoutModel",
     "state": {
      "_model_module": "@jupyter-widgets/base",
      "_model_module_version": "1.2.0",
      "_model_name": "LayoutModel",
      "_view_count": null,
      "_view_module": "@jupyter-widgets/base",
      "_view_module_version": "1.2.0",
      "_view_name": "LayoutView",
      "align_content": null,
      "align_items": null,
      "align_self": null,
      "border": null,
      "bottom": null,
      "display": null,
      "flex": null,
      "flex_flow": null,
      "grid_area": null,
      "grid_auto_columns": null,
      "grid_auto_flow": null,
      "grid_auto_rows": null,
      "grid_column": null,
      "grid_gap": null,
      "grid_row": null,
      "grid_template_areas": null,
      "grid_template_columns": null,
      "grid_template_rows": null,
      "height": null,
      "justify_content": null,
      "justify_items": null,
      "left": null,
      "margin": null,
      "max_height": null,
      "max_width": null,
      "min_height": null,
      "min_width": null,
      "object_fit": null,
      "object_position": null,
      "order": null,
      "overflow": null,
      "overflow_x": null,
      "overflow_y": null,
      "padding": null,
      "right": null,
      "top": null,
      "visibility": null,
      "width": null
     }
    },
    "953c7c19c1d94ed88c7d5e38a42ee1a4": {
     "model_module": "@jupyter-widgets/controls",
     "model_name": "FloatProgressModel",
     "state": {
      "_dom_classes": [],
      "_model_module": "@jupyter-widgets/controls",
      "_model_module_version": "1.5.0",
      "_model_name": "FloatProgressModel",
      "_view_count": null,
      "_view_module": "@jupyter-widgets/controls",
      "_view_module_version": "1.5.0",
      "_view_name": "ProgressView",
      "bar_style": "success",
      "description": "",
      "description_tooltip": null,
      "layout": "IPY_MODEL_fb4526cbf15d4c7cbfcdc63d487efb79",
      "max": 1285,
      "min": 0,
      "orientation": "horizontal",
      "style": "IPY_MODEL_f91431ba8b81443199e3a03ea34f3e9a",
      "value": 1285
     }
    },
    "9694450e6ed840abbad96cda59397ed0": {
     "model_module": "@jupyter-widgets/base",
     "model_name": "LayoutModel",
     "state": {
      "_model_module": "@jupyter-widgets/base",
      "_model_module_version": "1.2.0",
      "_model_name": "LayoutModel",
      "_view_count": null,
      "_view_module": "@jupyter-widgets/base",
      "_view_module_version": "1.2.0",
      "_view_name": "LayoutView",
      "align_content": null,
      "align_items": null,
      "align_self": null,
      "border": null,
      "bottom": null,
      "display": null,
      "flex": null,
      "flex_flow": null,
      "grid_area": null,
      "grid_auto_columns": null,
      "grid_auto_flow": null,
      "grid_auto_rows": null,
      "grid_column": null,
      "grid_gap": null,
      "grid_row": null,
      "grid_template_areas": null,
      "grid_template_columns": null,
      "grid_template_rows": null,
      "height": null,
      "justify_content": null,
      "justify_items": null,
      "left": null,
      "margin": null,
      "max_height": null,
      "max_width": null,
      "min_height": null,
      "min_width": null,
      "object_fit": null,
      "object_position": null,
      "order": null,
      "overflow": null,
      "overflow_x": null,
      "overflow_y": null,
      "padding": null,
      "right": null,
      "top": null,
      "visibility": null,
      "width": null
     }
    },
    "9ae9eacb83974f6b94ec1f76d7b983d8": {
     "model_module": "@jupyter-widgets/base",
     "model_name": "LayoutModel",
     "state": {
      "_model_module": "@jupyter-widgets/base",
      "_model_module_version": "1.2.0",
      "_model_name": "LayoutModel",
      "_view_count": null,
      "_view_module": "@jupyter-widgets/base",
      "_view_module_version": "1.2.0",
      "_view_name": "LayoutView",
      "align_content": null,
      "align_items": null,
      "align_self": null,
      "border": null,
      "bottom": null,
      "display": null,
      "flex": null,
      "flex_flow": null,
      "grid_area": null,
      "grid_auto_columns": null,
      "grid_auto_flow": null,
      "grid_auto_rows": null,
      "grid_column": null,
      "grid_gap": null,
      "grid_row": null,
      "grid_template_areas": null,
      "grid_template_columns": null,
      "grid_template_rows": null,
      "height": null,
      "justify_content": null,
      "justify_items": null,
      "left": null,
      "margin": null,
      "max_height": null,
      "max_width": null,
      "min_height": null,
      "min_width": null,
      "object_fit": null,
      "object_position": null,
      "order": null,
      "overflow": null,
      "overflow_x": null,
      "overflow_y": null,
      "padding": null,
      "right": null,
      "top": null,
      "visibility": null,
      "width": null
     }
    },
    "9efd60eb2f674007a451f591dd6f1a35": {
     "model_module": "@jupyter-widgets/controls",
     "model_name": "HTMLModel",
     "state": {
      "_dom_classes": [],
      "_model_module": "@jupyter-widgets/controls",
      "_model_module_version": "1.5.0",
      "_model_name": "HTMLModel",
      "_view_count": null,
      "_view_module": "@jupyter-widgets/controls",
      "_view_module_version": "1.5.0",
      "_view_name": "HTMLView",
      "description": "",
      "description_tooltip": null,
      "layout": "IPY_MODEL_9fb6b3b69a5b4dcd8e43a25fdfef3097",
      "placeholder": "​",
      "style": "IPY_MODEL_fb4805ec64ad4ca88c57c8a89ccd3122",
      "value": " 1.86M/? [00:00&lt;00:00, 18.4MB/s]"
     }
    },
    "9f5b722340c445b5b47938bb822bf7bb": {
     "model_module": "@jupyter-widgets/controls",
     "model_name": "FloatProgressModel",
     "state": {
      "_dom_classes": [],
      "_model_module": "@jupyter-widgets/controls",
      "_model_module_version": "1.5.0",
      "_model_name": "FloatProgressModel",
      "_view_count": null,
      "_view_module": "@jupyter-widgets/controls",
      "_view_module_version": "1.5.0",
      "_view_name": "ProgressView",
      "bar_style": "info",
      "description": "",
      "description_tooltip": null,
      "layout": "IPY_MODEL_f4f87038780446f592e9f0326940fb19",
      "max": 1,
      "min": 0,
      "orientation": "horizontal",
      "style": "IPY_MODEL_b24d7ec3098c43e5804228f58ba4db28",
      "value": 1
     }
    },
    "9f98242645cc49a588df5d7e3589305d": {
     "model_module": "@jupyter-widgets/controls",
     "model_name": "FloatProgressModel",
     "state": {
      "_dom_classes": [],
      "_model_module": "@jupyter-widgets/controls",
      "_model_module_version": "1.5.0",
      "_model_name": "FloatProgressModel",
      "_view_count": null,
      "_view_module": "@jupyter-widgets/controls",
      "_view_module_version": "1.5.0",
      "_view_name": "ProgressView",
      "bar_style": "info",
      "description": "",
      "description_tooltip": null,
      "layout": "IPY_MODEL_13edd0f316c14f41afb25c263752db35",
      "max": 1,
      "min": 0,
      "orientation": "horizontal",
      "style": "IPY_MODEL_60e1a141dd914239bdb4d5fbfc4e81a0",
      "value": 1
     }
    },
    "9fb6b3b69a5b4dcd8e43a25fdfef3097": {
     "model_module": "@jupyter-widgets/base",
     "model_name": "LayoutModel",
     "state": {
      "_model_module": "@jupyter-widgets/base",
      "_model_module_version": "1.2.0",
      "_model_name": "LayoutModel",
      "_view_count": null,
      "_view_module": "@jupyter-widgets/base",
      "_view_module_version": "1.2.0",
      "_view_name": "LayoutView",
      "align_content": null,
      "align_items": null,
      "align_self": null,
      "border": null,
      "bottom": null,
      "display": null,
      "flex": null,
      "flex_flow": null,
      "grid_area": null,
      "grid_auto_columns": null,
      "grid_auto_flow": null,
      "grid_auto_rows": null,
      "grid_column": null,
      "grid_gap": null,
      "grid_row": null,
      "grid_template_areas": null,
      "grid_template_columns": null,
      "grid_template_rows": null,
      "height": null,
      "justify_content": null,
      "justify_items": null,
      "left": null,
      "margin": null,
      "max_height": null,
      "max_width": null,
      "min_height": null,
      "min_width": null,
      "object_fit": null,
      "object_position": null,
      "order": null,
      "overflow": null,
      "overflow_x": null,
      "overflow_y": null,
      "padding": null,
      "right": null,
      "top": null,
      "visibility": null,
      "width": null
     }
    },
    "a04585dc2445421aaa0f1a4599ab9dcb": {
     "model_module": "@jupyter-widgets/base",
     "model_name": "LayoutModel",
     "state": {
      "_model_module": "@jupyter-widgets/base",
      "_model_module_version": "1.2.0",
      "_model_name": "LayoutModel",
      "_view_count": null,
      "_view_module": "@jupyter-widgets/base",
      "_view_module_version": "1.2.0",
      "_view_name": "LayoutView",
      "align_content": null,
      "align_items": null,
      "align_self": null,
      "border": null,
      "bottom": null,
      "display": null,
      "flex": null,
      "flex_flow": null,
      "grid_area": null,
      "grid_auto_columns": null,
      "grid_auto_flow": null,
      "grid_auto_rows": null,
      "grid_column": null,
      "grid_gap": null,
      "grid_row": null,
      "grid_template_areas": null,
      "grid_template_columns": null,
      "grid_template_rows": null,
      "height": null,
      "justify_content": null,
      "justify_items": null,
      "left": null,
      "margin": null,
      "max_height": null,
      "max_width": null,
      "min_height": null,
      "min_width": null,
      "object_fit": null,
      "object_position": null,
      "order": null,
      "overflow": null,
      "overflow_x": null,
      "overflow_y": null,
      "padding": null,
      "right": null,
      "top": null,
      "visibility": null,
      "width": null
     }
    },
    "a07986f33bc0461d8c55d4967263f05f": {
     "model_module": "@jupyter-widgets/controls",
     "model_name": "HTMLModel",
     "state": {
      "_dom_classes": [],
      "_model_module": "@jupyter-widgets/controls",
      "_model_module_version": "1.5.0",
      "_model_name": "HTMLModel",
      "_view_count": null,
      "_view_module": "@jupyter-widgets/controls",
      "_view_module_version": "1.5.0",
      "_view_name": "HTMLView",
      "description": "",
      "description_tooltip": null,
      "layout": "IPY_MODEL_8c8aab021f5047d68bb25449fa68ad19",
      "placeholder": "​",
      "style": "IPY_MODEL_c39ea5619ee241649b8c8bd0e3501fdf",
      "value": "Downloading: "
     }
    },
    "a3c1aad4bfbc4f0fb01fd5d9825675fb": {
     "model_module": "@jupyter-widgets/controls",
     "model_name": "HTMLModel",
     "state": {
      "_dom_classes": [],
      "_model_module": "@jupyter-widgets/controls",
      "_model_module_version": "1.5.0",
      "_model_name": "HTMLModel",
      "_view_count": null,
      "_view_module": "@jupyter-widgets/controls",
      "_view_module_version": "1.5.0",
      "_view_name": "HTMLView",
      "description": "",
      "description_tooltip": null,
      "layout": "IPY_MODEL_339e760e59984bf282a280da209f5e65",
      "placeholder": "​",
      "style": "IPY_MODEL_508c5237ad4d48c3a3c054523f724351",
      "value": "Downloading: "
     }
    },
    "a9f10b8c572a485fa87de1a5a97aaa14": {
     "model_module": "@jupyter-widgets/controls",
     "model_name": "DescriptionStyleModel",
     "state": {
      "_model_module": "@jupyter-widgets/controls",
      "_model_module_version": "1.5.0",
      "_model_name": "DescriptionStyleModel",
      "_view_count": null,
      "_view_module": "@jupyter-widgets/base",
      "_view_module_version": "1.2.0",
      "_view_name": "StyleView",
      "description_width": ""
     }
    },
    "aa755ccb97b740e9bcb4150cfd6cc865": {
     "model_module": "@jupyter-widgets/controls",
     "model_name": "DescriptionStyleModel",
     "state": {
      "_model_module": "@jupyter-widgets/controls",
      "_model_module_version": "1.5.0",
      "_model_name": "DescriptionStyleModel",
      "_view_count": null,
      "_view_module": "@jupyter-widgets/base",
      "_view_module_version": "1.2.0",
      "_view_name": "StyleView",
      "description_width": ""
     }
    },
    "abc4d09e9d224436abbad16ed81fc100": {
     "model_module": "@jupyter-widgets/controls",
     "model_name": "DescriptionStyleModel",
     "state": {
      "_model_module": "@jupyter-widgets/controls",
      "_model_module_version": "1.5.0",
      "_model_name": "DescriptionStyleModel",
      "_view_count": null,
      "_view_module": "@jupyter-widgets/base",
      "_view_module_version": "1.2.0",
      "_view_name": "StyleView",
      "description_width": ""
     }
    },
    "b15ba47b14d244429f69b37f1e9ecce7": {
     "model_module": "@jupyter-widgets/controls",
     "model_name": "HTMLModel",
     "state": {
      "_dom_classes": [],
      "_model_module": "@jupyter-widgets/controls",
      "_model_module_version": "1.5.0",
      "_model_name": "HTMLModel",
      "_view_count": null,
      "_view_module": "@jupyter-widgets/controls",
      "_view_module_version": "1.5.0",
      "_view_name": "HTMLView",
      "description": "",
      "description_tooltip": null,
      "layout": "IPY_MODEL_f93679620e0348b5a7bbb01b17143486",
      "placeholder": "​",
      "style": "IPY_MODEL_b9d0c70d0d5548c6b095469f663b4661",
      "value": " 4.06k/? [00:00&lt;00:00, 109kB/s]"
     }
    },
    "b24d7ec3098c43e5804228f58ba4db28": {
     "model_module": "@jupyter-widgets/controls",
     "model_name": "ProgressStyleModel",
     "state": {
      "_model_module": "@jupyter-widgets/controls",
      "_model_module_version": "1.5.0",
      "_model_name": "ProgressStyleModel",
      "_view_count": null,
      "_view_module": "@jupyter-widgets/base",
      "_view_module_version": "1.2.0",
      "_view_name": "StyleView",
      "bar_color": null,
      "description_width": ""
     }
    },
    "b8ce0f8134094bbebd7a80b7fab5fac9": {
     "model_module": "@jupyter-widgets/controls",
     "model_name": "DescriptionStyleModel",
     "state": {
      "_model_module": "@jupyter-widgets/controls",
      "_model_module_version": "1.5.0",
      "_model_name": "DescriptionStyleModel",
      "_view_count": null,
      "_view_module": "@jupyter-widgets/base",
      "_view_module_version": "1.2.0",
      "_view_name": "StyleView",
      "description_width": ""
     }
    },
    "b9d0c70d0d5548c6b095469f663b4661": {
     "model_module": "@jupyter-widgets/controls",
     "model_name": "DescriptionStyleModel",
     "state": {
      "_model_module": "@jupyter-widgets/controls",
      "_model_module_version": "1.5.0",
      "_model_name": "DescriptionStyleModel",
      "_view_count": null,
      "_view_module": "@jupyter-widgets/base",
      "_view_module_version": "1.2.0",
      "_view_name": "StyleView",
      "description_width": ""
     }
    },
    "bee8848da36e41d183aae8ccf4a12c13": {
     "model_module": "@jupyter-widgets/base",
     "model_name": "LayoutModel",
     "state": {
      "_model_module": "@jupyter-widgets/base",
      "_model_module_version": "1.2.0",
      "_model_name": "LayoutModel",
      "_view_count": null,
      "_view_module": "@jupyter-widgets/base",
      "_view_module_version": "1.2.0",
      "_view_name": "LayoutView",
      "align_content": null,
      "align_items": null,
      "align_self": null,
      "border": null,
      "bottom": null,
      "display": null,
      "flex": null,
      "flex_flow": null,
      "grid_area": null,
      "grid_auto_columns": null,
      "grid_auto_flow": null,
      "grid_auto_rows": null,
      "grid_column": null,
      "grid_gap": null,
      "grid_row": null,
      "grid_template_areas": null,
      "grid_template_columns": null,
      "grid_template_rows": null,
      "height": null,
      "justify_content": null,
      "justify_items": null,
      "left": null,
      "margin": null,
      "max_height": null,
      "max_width": null,
      "min_height": null,
      "min_width": null,
      "object_fit": null,
      "object_position": null,
      "order": null,
      "overflow": null,
      "overflow_x": null,
      "overflow_y": null,
      "padding": null,
      "right": null,
      "top": null,
      "visibility": null,
      "width": null
     }
    },
    "c39ea5619ee241649b8c8bd0e3501fdf": {
     "model_module": "@jupyter-widgets/controls",
     "model_name": "DescriptionStyleModel",
     "state": {
      "_model_module": "@jupyter-widgets/controls",
      "_model_module_version": "1.5.0",
      "_model_name": "DescriptionStyleModel",
      "_view_count": null,
      "_view_module": "@jupyter-widgets/base",
      "_view_module_version": "1.2.0",
      "_view_name": "StyleView",
      "description_width": ""
     }
    },
    "c49eba9e94d34163b7d41cc12a2ff4ae": {
     "model_module": "@jupyter-widgets/controls",
     "model_name": "HTMLModel",
     "state": {
      "_dom_classes": [],
      "_model_module": "@jupyter-widgets/controls",
      "_model_module_version": "1.5.0",
      "_model_name": "HTMLModel",
      "_view_count": null,
      "_view_module": "@jupyter-widgets/controls",
      "_view_module_version": "1.5.0",
      "_view_name": "HTMLView",
      "description": "",
      "description_tooltip": null,
      "layout": "IPY_MODEL_bee8848da36e41d183aae8ccf4a12c13",
      "placeholder": "​",
      "style": "IPY_MODEL_b8ce0f8134094bbebd7a80b7fab5fac9",
      "value": "Downloading: "
     }
    },
    "c607ebffb8124faab5a66d0ac0879e7b": {
     "model_module": "@jupyter-widgets/controls",
     "model_name": "HTMLModel",
     "state": {
      "_dom_classes": [],
      "_model_module": "@jupyter-widgets/controls",
      "_model_module_version": "1.5.0",
      "_model_name": "HTMLModel",
      "_view_count": null,
      "_view_module": "@jupyter-widgets/controls",
      "_view_module_version": "1.5.0",
      "_view_name": "HTMLView",
      "description": "",
      "description_tooltip": null,
      "layout": "IPY_MODEL_952e767bb65a4fbb8c0422ed75d14d05",
      "placeholder": "​",
      "style": "IPY_MODEL_dc396d3d0f2e42258b9394ba863d05e1",
      "value": ""
     }
    },
    "c6426ebb24334b749c201e519f0e2392": {
     "model_module": "@jupyter-widgets/base",
     "model_name": "LayoutModel",
     "state": {
      "_model_module": "@jupyter-widgets/base",
      "_model_module_version": "1.2.0",
      "_model_name": "LayoutModel",
      "_view_count": null,
      "_view_module": "@jupyter-widgets/base",
      "_view_module_version": "1.2.0",
      "_view_name": "LayoutView",
      "align_content": null,
      "align_items": null,
      "align_self": null,
      "border": null,
      "bottom": null,
      "display": null,
      "flex": null,
      "flex_flow": null,
      "grid_area": null,
      "grid_auto_columns": null,
      "grid_auto_flow": null,
      "grid_auto_rows": null,
      "grid_column": null,
      "grid_gap": null,
      "grid_row": null,
      "grid_template_areas": null,
      "grid_template_columns": null,
      "grid_template_rows": null,
      "height": null,
      "justify_content": null,
      "justify_items": null,
      "left": null,
      "margin": null,
      "max_height": null,
      "max_width": null,
      "min_height": null,
      "min_width": null,
      "object_fit": null,
      "object_position": null,
      "order": null,
      "overflow": null,
      "overflow_x": null,
      "overflow_y": null,
      "padding": null,
      "right": null,
      "top": null,
      "visibility": null,
      "width": null
     }
    },
    "d6d1cafdf548410f9beda1dfbb4cc4b9": {
     "model_module": "@jupyter-widgets/controls",
     "model_name": "HTMLModel",
     "state": {
      "_dom_classes": [],
      "_model_module": "@jupyter-widgets/controls",
      "_model_module_version": "1.5.0",
      "_model_name": "HTMLModel",
      "_view_count": null,
      "_view_module": "@jupyter-widgets/controls",
      "_view_module_version": "1.5.0",
      "_view_name": "HTMLView",
      "description": "",
      "description_tooltip": null,
      "layout": "IPY_MODEL_d89f9ead679b4c4580e70c7c21836f93",
      "placeholder": "​",
      "style": "IPY_MODEL_a9f10b8c572a485fa87de1a5a97aaa14",
      "value": " 29.5M/? [00:00&lt;00:00, 44.1MB/s]"
     }
    },
    "d89f9ead679b4c4580e70c7c21836f93": {
     "model_module": "@jupyter-widgets/base",
     "model_name": "LayoutModel",
     "state": {
      "_model_module": "@jupyter-widgets/base",
      "_model_module_version": "1.2.0",
      "_model_name": "LayoutModel",
      "_view_count": null,
      "_view_module": "@jupyter-widgets/base",
      "_view_module_version": "1.2.0",
      "_view_name": "LayoutView",
      "align_content": null,
      "align_items": null,
      "align_self": null,
      "border": null,
      "bottom": null,
      "display": null,
      "flex": null,
      "flex_flow": null,
      "grid_area": null,
      "grid_auto_columns": null,
      "grid_auto_flow": null,
      "grid_auto_rows": null,
      "grid_column": null,
      "grid_gap": null,
      "grid_row": null,
      "grid_template_areas": null,
      "grid_template_columns": null,
      "grid_template_rows": null,
      "height": null,
      "justify_content": null,
      "justify_items": null,
      "left": null,
      "margin": null,
      "max_height": null,
      "max_width": null,
      "min_height": null,
      "min_width": null,
      "object_fit": null,
      "object_position": null,
      "order": null,
      "overflow": null,
      "overflow_x": null,
      "overflow_y": null,
      "padding": null,
      "right": null,
      "top": null,
      "visibility": null,
      "width": null
     }
    },
    "dc396d3d0f2e42258b9394ba863d05e1": {
     "model_module": "@jupyter-widgets/controls",
     "model_name": "DescriptionStyleModel",
     "state": {
      "_model_module": "@jupyter-widgets/controls",
      "_model_module_version": "1.5.0",
      "_model_name": "DescriptionStyleModel",
      "_view_count": null,
      "_view_module": "@jupyter-widgets/base",
      "_view_module_version": "1.2.0",
      "_view_name": "StyleView",
      "description_width": ""
     }
    },
    "dff5bb6915354b528e15d2e93703bd35": {
     "model_module": "@jupyter-widgets/base",
     "model_name": "LayoutModel",
     "state": {
      "_model_module": "@jupyter-widgets/base",
      "_model_module_version": "1.2.0",
      "_model_name": "LayoutModel",
      "_view_count": null,
      "_view_module": "@jupyter-widgets/base",
      "_view_module_version": "1.2.0",
      "_view_name": "LayoutView",
      "align_content": null,
      "align_items": null,
      "align_self": null,
      "border": null,
      "bottom": null,
      "display": null,
      "flex": null,
      "flex_flow": null,
      "grid_area": null,
      "grid_auto_columns": null,
      "grid_auto_flow": null,
      "grid_auto_rows": null,
      "grid_column": null,
      "grid_gap": null,
      "grid_row": null,
      "grid_template_areas": null,
      "grid_template_columns": null,
      "grid_template_rows": null,
      "height": null,
      "justify_content": null,
      "justify_items": null,
      "left": null,
      "margin": null,
      "max_height": null,
      "max_width": null,
      "min_height": null,
      "min_width": null,
      "object_fit": null,
      "object_position": null,
      "order": null,
      "overflow": null,
      "overflow_x": null,
      "overflow_y": null,
      "padding": null,
      "right": null,
      "top": null,
      "visibility": null,
      "width": null
     }
    },
    "e853992a687843228397386f38f48d75": {
     "model_module": "@jupyter-widgets/controls",
     "model_name": "ProgressStyleModel",
     "state": {
      "_model_module": "@jupyter-widgets/controls",
      "_model_module_version": "1.5.0",
      "_model_name": "ProgressStyleModel",
      "_view_count": null,
      "_view_module": "@jupyter-widgets/base",
      "_view_module_version": "1.2.0",
      "_view_name": "StyleView",
      "bar_color": null,
      "description_width": ""
     }
    },
    "e8b092c8e1f54648877b9c5e45328e4e": {
     "model_module": "@jupyter-widgets/controls",
     "model_name": "HTMLModel",
     "state": {
      "_dom_classes": [],
      "_model_module": "@jupyter-widgets/controls",
      "_model_module_version": "1.5.0",
      "_model_name": "HTMLModel",
      "_view_count": null,
      "_view_module": "@jupyter-widgets/controls",
      "_view_module_version": "1.5.0",
      "_view_name": "HTMLView",
      "description": "",
      "description_tooltip": null,
      "layout": "IPY_MODEL_9ae9eacb83974f6b94ec1f76d7b983d8",
      "placeholder": "​",
      "style": "IPY_MODEL_220aa9730ee141b78a944d3f32a93ec0",
      "value": " 4503/0 [00:00&lt;00:00, 23822.01 examples/s]"
     }
    },
    "e96e32f04892426bb822cb9f16b3597d": {
     "model_module": "@jupyter-widgets/base",
     "model_name": "LayoutModel",
     "state": {
      "_model_module": "@jupyter-widgets/base",
      "_model_module_version": "1.2.0",
      "_model_name": "LayoutModel",
      "_view_count": null,
      "_view_module": "@jupyter-widgets/base",
      "_view_module_version": "1.2.0",
      "_view_name": "LayoutView",
      "align_content": null,
      "align_items": null,
      "align_self": null,
      "border": null,
      "bottom": null,
      "display": null,
      "flex": null,
      "flex_flow": null,
      "grid_area": null,
      "grid_auto_columns": null,
      "grid_auto_flow": null,
      "grid_auto_rows": null,
      "grid_column": null,
      "grid_gap": null,
      "grid_row": null,
      "grid_template_areas": null,
      "grid_template_columns": null,
      "grid_template_rows": null,
      "height": null,
      "justify_content": null,
      "justify_items": null,
      "left": null,
      "margin": null,
      "max_height": null,
      "max_width": null,
      "min_height": null,
      "min_width": null,
      "object_fit": null,
      "object_position": null,
      "order": null,
      "overflow": null,
      "overflow_x": null,
      "overflow_y": null,
      "padding": null,
      "right": null,
      "top": null,
      "visibility": null,
      "width": null
     }
    },
    "eb93d18174964fd0bd7bd83dd6f6cc83": {
     "model_module": "@jupyter-widgets/base",
     "model_name": "LayoutModel",
     "state": {
      "_model_module": "@jupyter-widgets/base",
      "_model_module_version": "1.2.0",
      "_model_name": "LayoutModel",
      "_view_count": null,
      "_view_module": "@jupyter-widgets/base",
      "_view_module_version": "1.2.0",
      "_view_name": "LayoutView",
      "align_content": null,
      "align_items": null,
      "align_self": null,
      "border": null,
      "bottom": null,
      "display": null,
      "flex": null,
      "flex_flow": null,
      "grid_area": null,
      "grid_auto_columns": null,
      "grid_auto_flow": null,
      "grid_auto_rows": null,
      "grid_column": null,
      "grid_gap": null,
      "grid_row": null,
      "grid_template_areas": null,
      "grid_template_columns": null,
      "grid_template_rows": null,
      "height": null,
      "justify_content": null,
      "justify_items": null,
      "left": null,
      "margin": null,
      "max_height": null,
      "max_width": null,
      "min_height": null,
      "min_width": null,
      "object_fit": null,
      "object_position": null,
      "order": null,
      "overflow": null,
      "overflow_x": null,
      "overflow_y": null,
      "padding": null,
      "right": null,
      "top": null,
      "visibility": null,
      "width": null
     }
    },
    "f4f87038780446f592e9f0326940fb19": {
     "model_module": "@jupyter-widgets/base",
     "model_name": "LayoutModel",
     "state": {
      "_model_module": "@jupyter-widgets/base",
      "_model_module_version": "1.2.0",
      "_model_name": "LayoutModel",
      "_view_count": null,
      "_view_module": "@jupyter-widgets/base",
      "_view_module_version": "1.2.0",
      "_view_name": "LayoutView",
      "align_content": null,
      "align_items": null,
      "align_self": null,
      "border": null,
      "bottom": null,
      "display": null,
      "flex": null,
      "flex_flow": null,
      "grid_area": null,
      "grid_auto_columns": null,
      "grid_auto_flow": null,
      "grid_auto_rows": null,
      "grid_column": null,
      "grid_gap": null,
      "grid_row": null,
      "grid_template_areas": null,
      "grid_template_columns": null,
      "grid_template_rows": null,
      "height": null,
      "justify_content": null,
      "justify_items": null,
      "left": null,
      "margin": null,
      "max_height": null,
      "max_width": null,
      "min_height": null,
      "min_width": null,
      "object_fit": null,
      "object_position": null,
      "order": null,
      "overflow": null,
      "overflow_x": null,
      "overflow_y": null,
      "padding": null,
      "right": null,
      "top": null,
      "visibility": null,
      "width": "20px"
     }
    },
    "f91431ba8b81443199e3a03ea34f3e9a": {
     "model_module": "@jupyter-widgets/controls",
     "model_name": "ProgressStyleModel",
     "state": {
      "_model_module": "@jupyter-widgets/controls",
      "_model_module_version": "1.5.0",
      "_model_name": "ProgressStyleModel",
      "_view_count": null,
      "_view_module": "@jupyter-widgets/base",
      "_view_module_version": "1.2.0",
      "_view_name": "StyleView",
      "bar_color": null,
      "description_width": ""
     }
    },
    "f93679620e0348b5a7bbb01b17143486": {
     "model_module": "@jupyter-widgets/base",
     "model_name": "LayoutModel",
     "state": {
      "_model_module": "@jupyter-widgets/base",
      "_model_module_version": "1.2.0",
      "_model_name": "LayoutModel",
      "_view_count": null,
      "_view_module": "@jupyter-widgets/base",
      "_view_module_version": "1.2.0",
      "_view_name": "LayoutView",
      "align_content": null,
      "align_items": null,
      "align_self": null,
      "border": null,
      "bottom": null,
      "display": null,
      "flex": null,
      "flex_flow": null,
      "grid_area": null,
      "grid_auto_columns": null,
      "grid_auto_flow": null,
      "grid_auto_rows": null,
      "grid_column": null,
      "grid_gap": null,
      "grid_row": null,
      "grid_template_areas": null,
      "grid_template_columns": null,
      "grid_template_rows": null,
      "height": null,
      "justify_content": null,
      "justify_items": null,
      "left": null,
      "margin": null,
      "max_height": null,
      "max_width": null,
      "min_height": null,
      "min_width": null,
      "object_fit": null,
      "object_position": null,
      "order": null,
      "overflow": null,
      "overflow_x": null,
      "overflow_y": null,
      "padding": null,
      "right": null,
      "top": null,
      "visibility": null,
      "width": null
     }
    },
    "fb4526cbf15d4c7cbfcdc63d487efb79": {
     "model_module": "@jupyter-widgets/base",
     "model_name": "LayoutModel",
     "state": {
      "_model_module": "@jupyter-widgets/base",
      "_model_module_version": "1.2.0",
      "_model_name": "LayoutModel",
      "_view_count": null,
      "_view_module": "@jupyter-widgets/base",
      "_view_module_version": "1.2.0",
      "_view_name": "LayoutView",
      "align_content": null,
      "align_items": null,
      "align_self": null,
      "border": null,
      "bottom": null,
      "display": null,
      "flex": null,
      "flex_flow": null,
      "grid_area": null,
      "grid_auto_columns": null,
      "grid_auto_flow": null,
      "grid_auto_rows": null,
      "grid_column": null,
      "grid_gap": null,
      "grid_row": null,
      "grid_template_areas": null,
      "grid_template_columns": null,
      "grid_template_rows": null,
      "height": null,
      "justify_content": null,
      "justify_items": null,
      "left": null,
      "margin": null,
      "max_height": null,
      "max_width": null,
      "min_height": null,
      "min_width": null,
      "object_fit": null,
      "object_position": null,
      "order": null,
      "overflow": null,
      "overflow_x": null,
      "overflow_y": null,
      "padding": null,
      "right": null,
      "top": null,
      "visibility": null,
      "width": null
     }
    },
    "fb4805ec64ad4ca88c57c8a89ccd3122": {
     "model_module": "@jupyter-widgets/controls",
     "model_name": "DescriptionStyleModel",
     "state": {
      "_model_module": "@jupyter-widgets/controls",
      "_model_module_version": "1.5.0",
      "_model_name": "DescriptionStyleModel",
      "_view_count": null,
      "_view_module": "@jupyter-widgets/base",
      "_view_module_version": "1.2.0",
      "_view_name": "StyleView",
      "description_width": ""
     }
    }
   }
  }
 },
 "nbformat": 4,
 "nbformat_minor": 1
}
